{
  "nbformat": 4,
  "nbformat_minor": 0,
  "metadata": {
    "colab": {
      "name": "HAR Models.ipynb",
      "version": "0.3.2",
      "provenance": [],
      "include_colab_link": true
    },
    "kernelspec": {
      "name": "python3",
      "display_name": "Python 3"
    },
    "accelerator": "GPU"
  },
  "cells": [
    {
      "cell_type": "markdown",
      "metadata": {
        "id": "view-in-github",
        "colab_type": "text"
      },
      "source": [
        "<a href=\"https://colab.research.google.com/github/apal9569/Human-Activity-Recognition/blob/master/HAR_Models.ipynb\" target=\"_parent\"><img src=\"https://colab.research.google.com/assets/colab-badge.svg\" alt=\"Open In Colab\"/></a>"
      ]
    },
    {
      "cell_type": "code",
      "metadata": {
        "id": "t49Pfd4JuwNE",
        "colab_type": "code",
        "outputId": "51e377a2-dc7f-4299-8395-72d80b9d10ed",
        "colab": {
          "base_uri": "https://localhost:8080/",
          "height": 34
        }
      },
      "source": [
        "from google.colab import drive\n",
        "drive.mount('/content/gdrive')"
      ],
      "execution_count": 0,
      "outputs": [
        {
          "output_type": "stream",
          "text": [
            "Mounted at /content/gdrive\n"
          ],
          "name": "stdout"
        }
      ]
    },
    {
      "cell_type": "code",
      "metadata": {
        "id": "vE8nXflR5NZj",
        "colab_type": "code",
        "outputId": "b37cb772-3b6a-42ed-8de6-23accedffbc2",
        "colab": {
          "base_uri": "https://localhost:8080/",
          "height": 204
        }
      },
      "source": [
        "!wget http://www.shl-dataset.org/wp-content/uploads/SHLChallenge2019/challenge-2019-train_hips.zip"
      ],
      "execution_count": 0,
      "outputs": [
        {
          "output_type": "stream",
          "text": [
            "--2019-06-17 05:24:48--  http://www.shl-dataset.org/wp-content/uploads/SHLChallenge2019/challenge-2019-train_hips.zip\n",
            "Resolving www.shl-dataset.org (www.shl-dataset.org)... 37.187.125.22\n",
            "Connecting to www.shl-dataset.org (www.shl-dataset.org)|37.187.125.22|:80... connected.\n",
            "HTTP request sent, awaiting response... 200 OK\n",
            "Length: 5871677913 (5.5G) [application/zip]\n",
            "Saving to: ‘challenge-2019-train_hips.zip’\n",
            "\n",
            "challenge-2019-trai 100%[===================>]   5.47G  11.2MB/s    in 8m 23s  \n",
            "\n",
            "2019-06-17 05:33:13 (11.1 MB/s) - ‘challenge-2019-train_hips.zip’ saved [5871677913/5871677913]\n",
            "\n"
          ],
          "name": "stdout"
        }
      ]
    },
    {
      "cell_type": "code",
      "metadata": {
        "id": "ku2_Oaue8CBB",
        "colab_type": "code",
        "outputId": "a2af0b58-3c1c-4d6d-8994-cf2cd980e564",
        "colab": {
          "base_uri": "https://localhost:8080/",
          "height": 204
        }
      },
      "source": [
        "!wget http://www.shl-dataset.org/wp-content/uploads/SHLChallenge2019/challenge-2019-validate_all.zip"
      ],
      "execution_count": 0,
      "outputs": [
        {
          "output_type": "stream",
          "text": [
            "--2019-06-17 05:39:39--  http://www.shl-dataset.org/wp-content/uploads/SHLChallenge2019/challenge-2019-validate_all.zip\n",
            "Resolving www.shl-dataset.org (www.shl-dataset.org)... 37.187.125.22\n",
            "Connecting to www.shl-dataset.org (www.shl-dataset.org)|37.187.125.22|:80... connected.\n",
            "HTTP request sent, awaiting response... 200 OK\n",
            "Length: 1487714593 (1.4G) [application/zip]\n",
            "Saving to: ‘challenge-2019-validate_all.zip’\n",
            "\n",
            "challenge-2019-vali 100%[===================>]   1.38G  11.2MB/s    in 2m 10s  \n",
            "\n",
            "2019-06-17 05:41:50 (10.9 MB/s) - ‘challenge-2019-validate_all.zip’ saved [1487714593/1487714593]\n",
            "\n"
          ],
          "name": "stdout"
        }
      ]
    },
    {
      "cell_type": "code",
      "metadata": {
        "id": "V0mx8qWH7GWi",
        "colab_type": "code",
        "colab": {}
      },
      "source": [
        "!unzip challenge-2019-train_hips.zip"
      ],
      "execution_count": 0,
      "outputs": []
    },
    {
      "cell_type": "code",
      "metadata": {
        "id": "V8QTtM2c9HMM",
        "colab_type": "code",
        "colab": {}
      },
      "source": [
        "!unzip challenge-2019-validate_all.zip"
      ],
      "execution_count": 0,
      "outputs": []
    },
    {
      "cell_type": "code",
      "metadata": {
        "id": "eWc7OwWmwo9Q",
        "colab_type": "code",
        "colab": {}
      },
      "source": [
        "import pandas as pd\n",
        "import numpy as np\n",
        "def read_data(data):\n",
        "  data=np.array(data)\n",
        "  return pd.DataFrame(data[:,1:])"
      ],
      "execution_count": 0,
      "outputs": []
    },
    {
      "cell_type": "code",
      "metadata": {
        "id": "cN8XiKE-xEmk",
        "colab_type": "code",
        "outputId": "aa2f8bd7-e0aa-4cec-da46-8bbdd0ac8ac3",
        "colab": {
          "base_uri": "https://localhost:8080/",
          "height": 34
        }
      },
      "source": [
        "accX.shape"
      ],
      "execution_count": 0,
      "outputs": [
        {
          "output_type": "execute_result",
          "data": {
            "text/plain": [
              "(196072, 51)"
            ]
          },
          "metadata": {
            "tags": []
          },
          "execution_count": 8
        }
      ]
    },
    {
      "cell_type": "code",
      "metadata": {
        "id": "UYD_eTvoxGHE",
        "colab_type": "code",
        "colab": {}
      },
      "source": [
        "accX=pd.read_csv('intern/accX.csv')\n",
        "accX=read_data(accX)\n",
        "accX_val=pd.read_csv('intern/accX_val.csv')\n",
        "accX_val=read_data(accX_val)\n",
        "\n",
        "accY=pd.read_csv('intern/accY.csv')\n",
        "accY=read_data(accY)\n",
        "accY_val=pd.read_csv('intern/accY_val.csv')\n",
        "accY_val=read_data(accY_val)\n",
        "\n",
        "accZ=pd.read_csv('intern/accZ.csv')\n",
        "accZ=read_data(accZ)\n",
        "accZ_val=pd.read_csv('intern/accZ_val.csv')\n",
        "accZ_val=read_data(accZ_val)"
      ],
      "execution_count": 0,
      "outputs": []
    },
    {
      "cell_type": "code",
      "metadata": {
        "id": "OFhu2ZcO4rrc",
        "colab_type": "code",
        "colab": {}
      },
      "source": [
        "accX1=pd.read_csv('acc_x.csv')\n",
        "accX1=read_data(accX1)\n",
        "accX1_val=pd.read_csv('acc_xval.csv')\n",
        "accX1_val=read_data(accX1_val)\n",
        "\n",
        "accY1=pd.read_csv('acc_y.csv')\n",
        "accY1=read_data(accY1)\n",
        "accY1_val=pd.read_csv('acc_yval.csv')\n",
        "accY1_val=read_data(accY1_val)\n",
        "\n",
        "accZ1=pd.read_csv('acc_z.csv')\n",
        "accZ1=read_data(accZ1)\n",
        "accZ1_val=pd.read_csv('acc_zval.csv')\n",
        "accZ1_val=read_data(accZ1_val)"
      ],
      "execution_count": 0,
      "outputs": []
    },
    {
      "cell_type": "code",
      "metadata": {
        "id": "FjfQMNFg5Hxv",
        "colab_type": "code",
        "outputId": "a004f4ef-fd4c-45a7-e926-8f09e02200b8",
        "colab": {
          "base_uri": "https://localhost:8080/",
          "height": 119
        }
      },
      "source": [
        "accX=np.concatenate([accX,accX1],axis=1)\n",
        "accX_val=np.concatenate([accX_val,accX1_val],axis=1)\n",
        "accY=np.concatenate([accY,accY1],axis=1)\n",
        "accY_val=np.concatenate([accY_val,accY1_val],axis=1)\n",
        "accZ=np.concatenate([accZ,accZ1],axis=1)\n",
        "accZ_val=np.concatenate([accZ_val,accZ1_val],axis=1)\n",
        "accX.shape,accX_val.shape,accY1.shape,accY1_val.shape,accZ1.shape,accZ1_val.shape"
      ],
      "execution_count": 0,
      "outputs": [
        {
          "output_type": "execute_result",
          "data": {
            "text/plain": [
              "((196072, 20),\n",
              " (12177, 20),\n",
              " (196072, 20),\n",
              " (12177, 20),\n",
              " (196072, 20),\n",
              " (12177, 20))"
            ]
          },
          "metadata": {
            "tags": []
          },
          "execution_count": 32
        }
      ]
    },
    {
      "cell_type": "code",
      "metadata": {
        "id": "5Egj4Gu8hoLV",
        "colab_type": "code",
        "colab": {}
      },
      "source": [
        "mag_acc=np.add(np.square(accX),np.square(accY))#,np.square(acc_z))\n",
        "mag_acc=np.sqrt(np.add(mag_acc,np.square(accX)))\n",
        "\n",
        "mag_accval=np.add(np.square(accX_val),np.square(accY_val))#,np.square(acc_z))\n",
        "mag_accval=np.sqrt(np.add(mag_accval,np.square(accX_val)))\n"
      ],
      "execution_count": 0,
      "outputs": []
    },
    {
      "cell_type": "code",
      "metadata": {
        "colab_type": "code",
        "id": "d-3Zg33f0PNL",
        "colab": {}
      },
      "source": [
        "gyrX=pd.read_csv('intern/gyrX.csv')\n",
        "gyrX=read_data(gyrX)\n",
        "gyrX_val=pd.read_csv('intern/gyrX_val.csv')\n",
        "gyrX_val=read_data(gyrX_val)\n",
        "\n",
        "gyrY=pd.read_csv('intern/gyrY.csv')\n",
        "gyrY=read_data(gyrY)\n",
        "gyrY_val=pd.read_csv('intern/gyrY_val.csv')\n",
        "gyrY_val=read_data(gyrY_val)\n",
        "\n",
        "gyrZ=pd.read_csv('intern/gyrZ.csv')\n",
        "gyrZ=read_data(gyrZ)\n",
        "gyrZ_val=pd.read_csv('intern/gyrZ_val.csv')\n",
        "gyrZ_val=read_data(gyrZ_val)"
      ],
      "execution_count": 0,
      "outputs": []
    },
    {
      "cell_type": "code",
      "metadata": {
        "id": "iHbzmV-slqk4",
        "colab_type": "code",
        "colab": {}
      },
      "source": [
        "mag_gyr=np.add(np.square(gyrX),np.square(gyrY))#,np.square(acc_z))\n",
        "mag_gyr=np.sqrt(np.add(mag_gyr,np.square(gyrZ)))\n",
        "\n",
        "mag_gyrval=np.add(np.square(gyrX_val),np.square(gyrY_val))#,np.square(acc_z))\n",
        "mag_gyrval=np.sqrt(np.add(mag_gyrval,np.square(gyrZ_val)))"
      ],
      "execution_count": 0,
      "outputs": []
    },
    {
      "cell_type": "code",
      "metadata": {
        "colab_type": "code",
        "id": "RZriL0oM0oNW",
        "colab": {}
      },
      "source": [
        "laccX=pd.read_csv('laccX.csv')\n",
        "laccX=read_data(laccX)\n",
        "laccX_val=pd.read_csv('laccX_val.csv')\n",
        "laccX_val=read_data(laccX_val)\n",
        "\n",
        "laccY=pd.read_csv('laccY.csv')\n",
        "laccY=read_data(laccY)\n",
        "laccY_val=pd.read_csv('laccY_val.csv')\n",
        "laccY_val=read_data(laccY_val)\n",
        "\n",
        "laccZ=pd.read_csv('laccZ.csv')\n",
        "laccZ=read_data(laccZ)\n",
        "laccZ_val=pd.read_csv('laccZ_val.csv')\n",
        "laccZ_val=read_data(laccZ_val)"
      ],
      "execution_count": 0,
      "outputs": []
    },
    {
      "cell_type": "code",
      "metadata": {
        "id": "7gh_BvleqeCk",
        "colab_type": "code",
        "colab": {}
      },
      "source": [
        "mag_lacc=np.add(np.square(laccX),np.square(laccY))#,np.square(acc_z))\n",
        "mag_lacc=np.sqrt(np.add(mag_lacc,np.square(laccX)))\n",
        "\n",
        "mag_laccval=np.add(np.square(laccX_val),np.square(laccY_val))#,np.square(acc_z))\n",
        "mag_laccval=np.sqrt(np.add(mag_laccval,np.square(laccX_val)))\n"
      ],
      "execution_count": 0,
      "outputs": []
    },
    {
      "cell_type": "code",
      "metadata": {
        "id": "1Mxqs9kfrpzD",
        "colab_type": "code",
        "outputId": "06210d95-3b54-4816-cac6-74a0445b9dff",
        "colab": {
          "base_uri": "https://localhost:8080/",
          "height": 34
        }
      },
      "source": [
        "laccX_val.shape"
      ],
      "execution_count": 0,
      "outputs": [
        {
          "output_type": "execute_result",
          "data": {
            "text/plain": [
              "(12177, 60)"
            ]
          },
          "metadata": {
            "tags": []
          },
          "execution_count": 17
        }
      ]
    },
    {
      "cell_type": "code",
      "metadata": {
        "colab_type": "code",
        "id": "sA0xBswr02Vm",
        "colab": {}
      },
      "source": [
        "magX=pd.read_csv('intern/magX.csv')\n",
        "magX=read_data(magX)\n",
        "magX_val=pd.read_csv('intern/magX_val.csv')\n",
        "magX_val=read_data(magX_val)\n",
        "\n",
        "magY=pd.read_csv('intern/magY.csv')\n",
        "magY=read_data(magY)\n",
        "magY_val=pd.read_csv('intern/magY_val.csv')\n",
        "magY_val=read_data(magY_val)\n",
        "\n",
        "magZ=pd.read_csv('intern/magZ.csv')\n",
        "magZ=read_data(magZ)\n",
        "magZ_val=pd.read_csv('intern/magZ_val.csv')\n",
        "magZ_val=read_data(magZ_val)"
      ],
      "execution_count": 0,
      "outputs": []
    },
    {
      "cell_type": "code",
      "metadata": {
        "id": "KQldXaPtskVD",
        "colab_type": "code",
        "colab": {}
      },
      "source": [
        "mag_mag=np.add(np.square(magX),np.square(magY))#,np.square(acc_z))\n",
        "mag_mag=np.sqrt(np.add(mag_mag,np.square(magZ)))\n",
        "\n",
        "mag_magval=np.add(np.square(magX_val),np.square(magY_val))#,np.square(acc_z))\n",
        "mag_magval=np.sqrt(np.add(mag_magval,np.square(magZ_val)))"
      ],
      "execution_count": 0,
      "outputs": []
    },
    {
      "cell_type": "code",
      "metadata": {
        "colab_type": "code",
        "id": "WZ1IauXz1Td2",
        "colab": {}
      },
      "source": [
        "pitch=pd.read_csv('intern/pitch_imp.csv')\n",
        "pitch=read_data(pitch)\n",
        "pitch_val=pd.read_csv('intern/pitch_val_imp.csv')\n",
        "pitch_val=read_data(pitch_val)\n",
        "\n",
        "yaw=pd.read_csv('intern/yaw.csv')\n",
        "yaw=read_data(yaw)\n",
        "yaw_val=pd.read_csv('intern/yaw_val.csv')\n",
        "yaw_val=read_data(yaw_val)\n",
        "\n",
        "roll=pd.read_csv('intern/roll.csv')\n",
        "roll=read_data(roll)\n",
        "roll_val=pd.read_csv('intern/roll_val.csv')\n",
        "roll_val=read_data(roll_val)"
      ],
      "execution_count": 0,
      "outputs": []
    },
    {
      "cell_type": "code",
      "metadata": {
        "colab_type": "code",
        "id": "B7PYKIAs2JZZ",
        "colab": {}
      },
      "source": [
        "graX=pd.read_csv('gra_x.csv')\n",
        "graX=read_data(graX)\n",
        "graX_val=pd.read_csv('gra_xval.csv')\n",
        "graX_val=read_data(graX_val)\n",
        "\n",
        "graY=pd.read_csv('gra_y.csv')\n",
        "graY=read_data(graY)\n",
        "graY_val=pd.read_csv('gra_yval.csv')\n",
        "graY_val=read_data(graY_val)\n",
        "\n",
        "graZ=pd.read_csv('gra_z.csv')\n",
        "graZ=read_data(graZ)\n",
        "graZ_val=pd.read_csv('gra_zval.csv')\n",
        "graZ_val=read_data(graZ_val)"
      ],
      "execution_count": 0,
      "outputs": []
    },
    {
      "cell_type": "code",
      "metadata": {
        "id": "ojlKaNys0Iof",
        "colab_type": "code",
        "colab": {}
      },
      "source": [
        "mag_gra=np.add(np.square(graX),np.square(graZ))#,np.square(acc_z))\n",
        "mag_gra=np.sqrt(np.add(mag_gra,np.square(graZ)))\n",
        "\n",
        "mag_graval=np.add(np.square(graX_val),np.square(graY_val))#,np.square(acc_z))\n",
        "mag_graval=np.sqrt(np.add(mag_graval,np.square(graZ_val)))"
      ],
      "execution_count": 0,
      "outputs": []
    },
    {
      "cell_type": "code",
      "metadata": {
        "id": "9CbB2i9uzNwf",
        "colab_type": "code",
        "outputId": "ee8bbf4b-992e-46be-fa1b-86806fbd5426",
        "colab": {
          "base_uri": "https://localhost:8080/",
          "height": 34
        }
      },
      "source": [
        "graX_val.shape,graY_val.shape,graZ_val.shape"
      ],
      "execution_count": 0,
      "outputs": [
        {
          "output_type": "execute_result",
          "data": {
            "text/plain": [
              "((12177, 1), (12177, 1), (12177, 1))"
            ]
          },
          "metadata": {
            "tags": []
          },
          "execution_count": 36
        }
      ]
    },
    {
      "cell_type": "code",
      "metadata": {
        "colab_type": "code",
        "id": "qN1lOguv2xz9",
        "colab": {}
      },
      "source": [
        "oriX=pd.read_csv('intern2/ori_x.csv')\n",
        "oriX=read_data(oriX)\n",
        "oriX_val=pd.read_csv('intern2/ori_xval.csv')\n",
        "oriX_val=read_data(oriX_val)\n",
        "\n",
        "oriY=pd.read_csv('intern2/ori_y.csv')\n",
        "oriY=read_data(oriY)\n",
        "oriY_val=pd.read_csv('intern2/ori_yval.csv')\n",
        "oriY_val=read_data(oriY_val)\n",
        "\n",
        "oriZ=pd.read_csv('intern2/ori_z.csv')\n",
        "oriZ=read_data(oriZ)\n",
        "oriZ_val=pd.read_csv('intern2/ori_zval.csv')\n",
        "oriZ_val=read_data(oriZ_val)\n",
        "\n",
        "oriW=pd.read_csv('intern2/ori_w.csv')\n",
        "oriW=read_data(oriW)\n",
        "oriW_val=pd.read_csv('intern2/ori_wval.csv')\n",
        "oriW_val=read_data(oriW_val)\n"
      ],
      "execution_count": 0,
      "outputs": []
    },
    {
      "cell_type": "code",
      "metadata": {
        "id": "GcOYrQU02b8p",
        "colab_type": "code",
        "colab": {}
      },
      "source": [
        "\n",
        "press=pd.read_csv('press.csv')\n",
        "press=read_data(press)\n",
        "press_val=pd.read_csv('press_val.csv')\n",
        "press_val=read_data(press_val)\n"
      ],
      "execution_count": 0,
      "outputs": []
    },
    {
      "cell_type": "code",
      "metadata": {
        "id": "DcGmAepw9n1w",
        "colab_type": "code",
        "colab": {}
      },
      "source": [
        "label=pd.read_csv('train/Hips/Label.txt',header=None,delim_whitespace=True)\n",
        "label_val=pd.read_csv('validate/Hips/Label.txt',header=None,delim_whitespace=True)"
      ],
      "execution_count": 0,
      "outputs": []
    },
    {
      "cell_type": "code",
      "metadata": {
        "id": "IaT1jcmV9veg",
        "colab_type": "code",
        "colab": {}
      },
      "source": [
        "label=np.array(label)\n",
        "label=label[:,0]\n",
        "\n",
        "label_val=np.array(label_val)\n",
        "label_val=label_val[:,0]"
      ],
      "execution_count": 0,
      "outputs": []
    },
    {
      "cell_type": "code",
      "metadata": {
        "id": "du5GMwsfLvOi",
        "colab_type": "code",
        "outputId": "ffe1998a-257e-4327-8071-f07bab20b3d7",
        "colab": {
          "base_uri": "https://localhost:8080/",
          "height": 119
        }
      },
      "source": [
        "train=list()\n",
        "train2=list()\n",
        "train1=list()\n",
        "train4=list()\n",
        "train5=list()\n",
        "train3=list()\n",
        "train6=list()\n",
        "\n",
        "train.append(accX)\n",
        "train.append(accY)\n",
        "\n",
        "train.append(accZ)\n",
        "train.append(mag_acc)\n",
        "\n",
        "train1=np.concatenate([pitch,oriW,yaw,oriX,roll,oriY,oriZ],axis=1)#append(acc_x)\n",
        "\n",
        "train2.append(gyrX)\n",
        "train2.append(gyrY)\n",
        "train2.append(gyrZ)\n",
        "train2.append(mag_gyr)\n",
        "\n",
        "train3.append(laccX)\n",
        "train3.append(laccY)\n",
        "train3.append(laccZ)\n",
        "train3.append(mag_lacc)\n",
        "\n",
        "train6.append(press)\n",
        "\n",
        "train4.append(graX)\n",
        "train4.append(graY)\n",
        "train4.append(graZ)\n",
        "train4.append(mag_gra)\n",
        "\n",
        "train5.append(magX)\n",
        "train5.append(magY)\n",
        "train5.append(magZ)\n",
        "train5.append(mag_mag)\n",
        "\n",
        "train=np.dstack(train)\n",
        "train2=np.dstack(train2)\n",
        "train1=np.transpose(np.dstack(train1))\n",
        "train4=np.dstack(train4)\n",
        "train5=np.dstack(train5)\n",
        "train3=np.dstack(train3)\n",
        "train6=np.dstack(train6)\n",
        "\n",
        "train1.shape,train.shape,train2.shape,train4.shape,train5.shape,train6.shape"
      ],
      "execution_count": 0,
      "outputs": [
        {
          "output_type": "execute_result",
          "data": {
            "text/plain": [
              "((196072, 62, 1),\n",
              " (196072, 70, 4),\n",
              " (196072, 50, 4),\n",
              " (196072, 1, 4),\n",
              " (196072, 1, 4),\n",
              " (196072, 20, 1))"
            ]
          },
          "metadata": {
            "tags": []
          },
          "execution_count": 69
        }
      ]
    },
    {
      "cell_type": "code",
      "metadata": {
        "id": "ECATM6BqMD1V",
        "colab_type": "code",
        "colab": {}
      },
      "source": [
        "train_val=list()\n",
        "train2_val=list()\n",
        "train3_val=list()\n",
        "train4_val=list()\n",
        "train5_val=list()\n",
        "train6_val=list()\n",
        "\n",
        "train_val.append(accX_val)\n",
        "train_val.append(accY_val)\n",
        "train_val.append(accZ_val)\n",
        "train_val.append(mag_accval)\n",
        "\n",
        "train1_val=np.concatenate([pitch_val,oriW_val,roll_val,oriX_val,yaw_val,oriY_val,oriZ_val],axis=1)\n",
        "\n",
        "train2_val.append(gyrX_val)\n",
        "train2_val.append(gyrY_val)\n",
        "train2_val.append(gyrZ_val)\n",
        "train2_val.append(mag_gyrval)\n",
        "\n",
        "train3_val.append(laccX_val)\n",
        "train3_val.append(laccX_val)\n",
        "train3_val.append(laccX_val)\n",
        "train3_val.append(laccX_val)\n",
        "\n",
        "\n",
        "train4_val.append(graX_val)\n",
        "train4_val.append(graY_val)\n",
        "train4_val.append(graZ_val)\n",
        "train4_val.append(mag_graval)\n",
        "\n",
        "train5_val.append(magX_val)\n",
        "train5_val.append(magY_val)\n",
        "train5_val.append(magZ_val)\n",
        "train5_val.append(mag_magval)\n",
        "\n",
        "train6_val.append(press_val)\n",
        "\n",
        "train_val=np.dstack(train_val)\n",
        "train2_val=np.dstack(train2_val)\n",
        "train3_val=np.dstack(train3_val)\n",
        "train1_val=np.transpose(np.dstack(train1_val))\n",
        "train5_val=np.dstack(train5_val)\n",
        "train4_val=np.dstack(train4_val)\n",
        "train6_val=np.dstack(train6_val)\n",
        "\n",
        "#print(train1_val.shape,train2_val.shape,train3_val.shape,train4_val.shape,train5_val.shape())"
      ],
      "execution_count": 0,
      "outputs": []
    },
    {
      "cell_type": "code",
      "metadata": {
        "id": "YXHCIbE5tRq9",
        "colab_type": "code",
        "outputId": "22e03102-4fdd-4894-b6a5-5758ec5c50c0",
        "colab": {
          "base_uri": "https://localhost:8080/",
          "height": 34
        }
      },
      "source": [
        "train_val.shape"
      ],
      "execution_count": 0,
      "outputs": [
        {
          "output_type": "execute_result",
          "data": {
            "text/plain": [
              "(12177, 50, 4)"
            ]
          },
          "metadata": {
            "tags": []
          },
          "execution_count": 188
        }
      ]
    },
    {
      "cell_type": "code",
      "metadata": {
        "colab_type": "code",
        "id": "6_TUL7jH4z7r",
        "outputId": "c1ccabf3-fbf2-40e4-a55e-710f1e1fc781",
        "colab": {
          "base_uri": "https://localhost:8080/",
          "height": 34
        }
      },
      "source": [
        "from keras.models import Sequential\n",
        "from keras.layers import Dense\n",
        "from keras.layers import Flatten, TimeDistributed\n",
        "from keras.layers import *\n",
        "from keras.utils import to_categorical\n",
        "from matplotlib import pyplot\n",
        "from keras.optimizers import Adam\n",
        "from keras.utils import plot_model\n",
        "from keras.models import Model\n",
        "from keras.layers.pooling import MaxPooling2D\n",
        "from keras.layers.merge import concatenate\n",
        "from keras.callbacks import EarlyStopping\n",
        "from keras import regularizers"
      ],
      "execution_count": 0,
      "outputs": [
        {
          "output_type": "stream",
          "text": [
            "Using TensorFlow backend.\n"
          ],
          "name": "stderr"
        }
      ]
    },
    {
      "cell_type": "code",
      "metadata": {
        "id": "JtlYjK2i91ze",
        "colab_type": "code",
        "colab": {}
      },
      "source": [
        "label=to_categorical(label)\n",
        "label_val=to_categorical(label_val)"
      ],
      "execution_count": 0,
      "outputs": []
    },
    {
      "cell_type": "code",
      "metadata": {
        "id": "qwSDMTLfwW6L",
        "colab_type": "code",
        "outputId": "df131cf4-0b3e-4114-a869-22d7eb8b1e00",
        "colab": {
          "base_uri": "https://localhost:8080/",
          "height": 34
        }
      },
      "source": [
        "#########################     LSTM MODEL         ##############\n",
        "acc=Input(shape=(train.shape[1],train2.shape[2]))\n",
        "\n",
        "lstm1=LSTM(40,kernel_regularizer=regularizers.l2(0.05),recurrent_regularizer=regularizers.l2(0.01))(acc)\n",
        "lstm1=Dropout(0.4)(lstm1)\n",
        "lstm1=LeakyReLU()(lstm1)\n",
        "\n",
        "ori=Input(shape=(train1.shape[1],train1.shape[2]))\n",
        "\n",
        "lstm3=LSTM(10,kernel_regularizer=regularizers.l2(0.01),recurrent_regularizer=regularizers.l2(0.01))(ori)\n",
        "lstm3=Dropout(0.4)(lstm3)\n",
        "lstm3=LeakyReLU()(lstm3)\n",
        "\n",
        "gyr=Input(shape=(train2.shape[1],train2.shape[2]))\n",
        "\n",
        "lstm2=LSTM(40,kernel_regularizer=regularizers.l2(0.01),recurrent_regularizer=regularizers.l2(0.01))(gyr)\n",
        "lstm2=Dropout(0.4)(lstm2)\n",
        "lstm2=LeakyReLU()(lstm2)\n",
        "\n",
        "\n",
        "lacc=Input(shape=(train3.shape[1],train3.shape[2]))\n",
        "\n",
        "lstm5=LSTM(50,kernel_regularizer=regularizers.l2(0.01),recurrent_regularizer=regularizers.l2(0.01))(lacc)\n",
        "lstm5=Dropout(0.4)(lstm5)\n",
        "lstm5=LeakyReLU()(lstm5)\n",
        "\n",
        "gra=Input(shape=(train4.shape[1],train4.shape[2]))\n",
        "\n",
        "lstm6=LSTM(10,kernel_regularizer=regularizers.l2(0.01),recurrent_regularizer=regularizers.l2(0.01))(gra)\n",
        "lstm6=Dropout(0.4)(lstm6)\n",
        "lstm6=LeakyReLU()(lstm6)\n",
        "\n",
        "mag=Input(shape=(train5.shape[1],train5.shape[2]))\n",
        "\n",
        "lstm4=LSTM(10,kernel_regularizer=regularizers.l2(0.01),recurrent_regularizer=regularizers.l2(0.01))(mag)\n",
        "lstm4=Dropout(0.4)(lstm4)\n",
        "lstm4=LeakyReLU()(lstm4)\n",
        "\n",
        "pre=Input(shape=(train6.shape[1],train6.shape[2]))\n",
        "\n",
        "lstm7=LSTM(5,kernel_regularizer=regularizers.l2(0.01),recurrent_regularizer=regularizers.l2(0.01))(pre)\n",
        "lstm7=Dropout(0.4)(lstm7)\n",
        "lstm7=LeakyReLU()(lstm7)\n",
        "\n",
        "combined=concatenate([lstm1,lstm6,lstm2,lstm4,lstm3,lstm5,lstm7])\n",
        "print(combined.shape)\n",
        "\n",
        "den1=Dense(128,activation='relu',kernel_regularizer=regularizers.l2(0.02))(combined)\n",
        "den1=Dropout(0.4)(den1)\n",
        "den1=Dense(32,activation='relu')(den1)\n",
        "den1=Dropout(0.4)(den1)\n",
        "den1=Dense(16,activation='relu')(den1)\n",
        "out=Dense(label.shape[1],activation='softmax')(den1)\n",
        "\n",
        "model1=Model(inputs=[acc,ori,gyr,lacc,gra,mag,pre],outputs=out)\n"
      ],
      "execution_count": 0,
      "outputs": [
        {
          "output_type": "stream",
          "text": [
            "(?, 88)\n"
          ],
          "name": "stdout"
        }
      ]
    },
    {
      "cell_type": "code",
      "metadata": {
        "id": "BAeX8vwfEeUb",
        "colab_type": "code",
        "outputId": "c5124b44-0c74-4f28-8b53-c560b765b609",
        "colab": {
          "base_uri": "https://localhost:8080/",
          "height": 34
        }
      },
      "source": [
        "train.shape"
      ],
      "execution_count": 0,
      "outputs": [
        {
          "output_type": "execute_result",
          "data": {
            "text/plain": [
              "(196072, 50, 4)"
            ]
          },
          "metadata": {
            "tags": []
          },
          "execution_count": 110
        }
      ]
    },
    {
      "cell_type": "code",
      "metadata": {
        "id": "QHbL3K4n0Wd2",
        "colab_type": "code",
        "outputId": "33cb8efd-5823-4a47-ed20-c95acd42fc06",
        "colab": {
          "base_uri": "https://localhost:8080/",
          "height": 34
        }
      },
      "source": [
        "######################   CNN LSTM    ##############\n",
        "acc=Input(shape=(train.shape[1],train.shape[2]))\n",
        "conv1=SeparableConv1D(8, 1, strides=1,padding='same',kernel_regularizer=regularizers.l2(0.01))(acc)\n",
        "conv1=Dropout(0.5)(conv1)\n",
        "lstm1=LSTM(50,kernel_regularizer=regularizers.l2(0.01),recurrent_regularizer=regularizers.l2(0.01))(conv1)\n",
        "lstm1=Dropout(0.5)(lstm1)\n",
        "lstm1=LeakyReLU()(lstm1)\n",
        "\n",
        "ori=Input(shape=(train1.shape[1],train1.shape[2]))\n",
        "conv2=SeparableConv1D(4, 1,strides=1, padding='same',kernel_regularizer=regularizers.l2(0.01))(ori)\n",
        "conv2=Dropout(0.5)(conv2)\n",
        "lstm2=LSTM(10,kernel_regularizer=regularizers.l2(0.01),recurrent_regularizer=regularizers.l2(0.01))(conv2)\n",
        "lstm2=Dropout(0.4)(lstm2)\n",
        "lstm2=LeakyReLU()(lstm2)\n",
        "\n",
        "gyr=Input(shape=(train2.shape[1],train2.shape[2]))\n",
        "conv3=SeparableConv1D(8, 1,strides=1, padding='same',kernel_regularizer=regularizers.l2(0.01))(gyr)\n",
        "conv3=Dropout(0.5)(conv3)\n",
        "lstm3=LSTM(50,kernel_regularizer=regularizers.l2(0.01),recurrent_regularizer=regularizers.l2(0.01))(conv3)\n",
        "lstm3=Dropout(0.4)(lstm3)\n",
        "lstm3=LeakyReLU()(lstm3)\n",
        "\n",
        "lacc=Input(shape=(train3.shape[1],train3.shape[2]))\n",
        "conv4=SeparableConv1D(8, 1,strides=1, padding='same',kernel_regularizer=regularizers.l2(0.01))(lacc)\n",
        "conv4=Dropout(0.5)(conv4)\n",
        "\n",
        "lstm4=LSTM(50,kernel_regularizer=regularizers.l2(0.01),recurrent_regularizer=regularizers.l2(0.01))(conv4)\n",
        "lstm4=Dropout(0.4)(lstm4)\n",
        "lstm4=LeakyReLU()(lstm4)\n",
        "\n",
        "gra=Input(shape=(train4.shape[1],train4.shape[2]))\n",
        "\n",
        "conv6=SeparableConv1D(8, 1,strides=1, padding='same',kernel_regularizer=regularizers.l2(0.01))(gra)\n",
        "conv6=Dropout(0.5)(conv6)\n",
        "lstm6=LSTM(10,kernel_regularizer=regularizers.l2(0.01),recurrent_regularizer=regularizers.l2(0.01))(conv6)\n",
        "lstm6=Dropout(0.4)(lstm6)\n",
        "lstm6=LeakyReLU()(lstm6)\n",
        "\n",
        "mag=Input(shape=(train5.shape[1],train5.shape[2]))\n",
        "conv5=SeparableConv1D(16, 1,strides=1, padding='same',kernel_regularizer=regularizers.l2(0.01))(mag)\n",
        "conv5=Dropout(0.5)(conv5)\n",
        "lstm5=LSTM(10,kernel_regularizer=regularizers.l2(0.01),recurrent_regularizer=regularizers.l2(0.01))(conv5)\n",
        "lstm5=Dropout(0.4)(lstm5)\n",
        "lstm5=LeakyReLU()(lstm5)\n",
        "\n",
        "pre=Input(shape=(train6.shape[1],train6.shape[2]))\n",
        "\n",
        "conv7=SeparableConv1D(16, 1,strides=1, padding='same',kernel_regularizer=regularizers.l2(0.01))(pre)\n",
        "conv7=Dropout(0.5)(conv7)\n",
        "lstm7=LSTM(5,kernel_regularizer=regularizers.l2(0.01),recurrent_regularizer=regularizers.l2(0.01))(conv7)\n",
        "lstm7=Dropout(0.4)(lstm7)\n",
        "lstm7=LeakyReLU()(lstm7)\n",
        "\n",
        "combined=concatenate([lstm1,lstm2,lstm3,lstm4,lstm6,lstm5,lstm7])\n",
        "print(combined.shape)\n",
        "den=Dense(64,activation='relu')(combined)\n",
        "den=Dropout(0.5)(den)\n",
        "den=Dense(32,activation='relu')(den)\n",
        "den=Dropout(0.5)(den)\n",
        "out=Dense(label.shape[1],activation='softmax')(den)\n",
        "\n",
        "model4=Model(inputs=[acc,ori,gyr,lacc,gra,mag,pre],outputs=out)"
      ],
      "execution_count": 0,
      "outputs": [
        {
          "output_type": "stream",
          "text": [
            "(?, 185)\n"
          ],
          "name": "stdout"
        }
      ]
    },
    {
      "cell_type": "code",
      "metadata": {
        "id": "TZb8IUZU-AeK",
        "colab_type": "code",
        "colab": {}
      },
      "source": [
        "adam=Adam(lr=0.01,beta_1=0.95,beta_2=0.95,epsilon=0.001)\n",
        "model1.compile(loss='categorical_crossentropy',optimizer=adam,metrics=['categorical_accuracy'])\n",
        "model1.summary()\n",
        "plot_model(model1)"
      ],
      "execution_count": 0,
      "outputs": []
    },
    {
      "cell_type": "code",
      "metadata": {
        "id": "naQvBFPBIeGy",
        "colab_type": "code",
        "outputId": "edd36092-f5e7-4eec-a1f1-08cfeade4f73",
        "colab": {
          "base_uri": "https://localhost:8080/",
          "height": 1870
        }
      },
      "source": [
        "adam=Adam(lr=0.01,beta_1=0.9,beta_2=0.9,epsilon=0.001)\n",
        "model4.compile(loss='categorical_crossentropy',optimizer=adam,metrics=['categorical_accuracy'])\n",
        "model4.summary()\n",
        "plot_model(model4)"
      ],
      "execution_count": 0,
      "outputs": [
        {
          "output_type": "stream",
          "text": [
            "__________________________________________________________________________________________________\n",
            "Layer (type)                    Output Shape         Param #     Connected to                     \n",
            "==================================================================================================\n",
            "input_16 (InputLayer)           (None, 70, 4)        0                                            \n",
            "__________________________________________________________________________________________________\n",
            "input_17 (InputLayer)           (None, 62, 1)        0                                            \n",
            "__________________________________________________________________________________________________\n",
            "input_18 (InputLayer)           (None, 50, 4)        0                                            \n",
            "__________________________________________________________________________________________________\n",
            "input_19 (InputLayer)           (None, 60, 4)        0                                            \n",
            "__________________________________________________________________________________________________\n",
            "input_20 (InputLayer)           (None, 1, 4)         0                                            \n",
            "__________________________________________________________________________________________________\n",
            "input_21 (InputLayer)           (None, 1, 4)         0                                            \n",
            "__________________________________________________________________________________________________\n",
            "input_22 (InputLayer)           (None, 20, 1)        0                                            \n",
            "__________________________________________________________________________________________________\n",
            "separable_conv1d_1 (SeparableCo (None, 70, 8)        44          input_16[0][0]                   \n",
            "__________________________________________________________________________________________________\n",
            "separable_conv1d_2 (SeparableCo (None, 62, 4)        9           input_17[0][0]                   \n",
            "__________________________________________________________________________________________________\n",
            "separable_conv1d_3 (SeparableCo (None, 50, 8)        44          input_18[0][0]                   \n",
            "__________________________________________________________________________________________________\n",
            "separable_conv1d_4 (SeparableCo (None, 60, 8)        44          input_19[0][0]                   \n",
            "__________________________________________________________________________________________________\n",
            "separable_conv1d_5 (SeparableCo (None, 1, 8)         44          input_20[0][0]                   \n",
            "__________________________________________________________________________________________________\n",
            "separable_conv1d_6 (SeparableCo (None, 1, 16)        84          input_21[0][0]                   \n",
            "__________________________________________________________________________________________________\n",
            "separable_conv1d_7 (SeparableCo (None, 20, 16)       33          input_22[0][0]                   \n",
            "__________________________________________________________________________________________________\n",
            "dropout_32 (Dropout)            (None, 70, 8)        0           separable_conv1d_1[0][0]         \n",
            "__________________________________________________________________________________________________\n",
            "dropout_34 (Dropout)            (None, 62, 4)        0           separable_conv1d_2[0][0]         \n",
            "__________________________________________________________________________________________________\n",
            "dropout_36 (Dropout)            (None, 50, 8)        0           separable_conv1d_3[0][0]         \n",
            "__________________________________________________________________________________________________\n",
            "dropout_38 (Dropout)            (None, 60, 8)        0           separable_conv1d_4[0][0]         \n",
            "__________________________________________________________________________________________________\n",
            "dropout_40 (Dropout)            (None, 1, 8)         0           separable_conv1d_5[0][0]         \n",
            "__________________________________________________________________________________________________\n",
            "dropout_42 (Dropout)            (None, 1, 16)        0           separable_conv1d_6[0][0]         \n",
            "__________________________________________________________________________________________________\n",
            "dropout_44 (Dropout)            (None, 20, 16)       0           separable_conv1d_7[0][0]         \n",
            "__________________________________________________________________________________________________\n",
            "lstm_16 (LSTM)                  (None, 50)           11800       dropout_32[0][0]                 \n",
            "__________________________________________________________________________________________________\n",
            "lstm_17 (LSTM)                  (None, 10)           600         dropout_34[0][0]                 \n",
            "__________________________________________________________________________________________________\n",
            "lstm_18 (LSTM)                  (None, 50)           11800       dropout_36[0][0]                 \n",
            "__________________________________________________________________________________________________\n",
            "lstm_19 (LSTM)                  (None, 50)           11800       dropout_38[0][0]                 \n",
            "__________________________________________________________________________________________________\n",
            "lstm_20 (LSTM)                  (None, 10)           760         dropout_40[0][0]                 \n",
            "__________________________________________________________________________________________________\n",
            "lstm_21 (LSTM)                  (None, 10)           1080        dropout_42[0][0]                 \n",
            "__________________________________________________________________________________________________\n",
            "lstm_22 (LSTM)                  (None, 5)            440         dropout_44[0][0]                 \n",
            "__________________________________________________________________________________________________\n",
            "dropout_33 (Dropout)            (None, 50)           0           lstm_16[0][0]                    \n",
            "__________________________________________________________________________________________________\n",
            "dropout_35 (Dropout)            (None, 10)           0           lstm_17[0][0]                    \n",
            "__________________________________________________________________________________________________\n",
            "dropout_37 (Dropout)            (None, 50)           0           lstm_18[0][0]                    \n",
            "__________________________________________________________________________________________________\n",
            "dropout_39 (Dropout)            (None, 50)           0           lstm_19[0][0]                    \n",
            "__________________________________________________________________________________________________\n",
            "dropout_41 (Dropout)            (None, 10)           0           lstm_20[0][0]                    \n",
            "__________________________________________________________________________________________________\n",
            "dropout_43 (Dropout)            (None, 10)           0           lstm_21[0][0]                    \n",
            "__________________________________________________________________________________________________\n",
            "dropout_45 (Dropout)            (None, 5)            0           lstm_22[0][0]                    \n",
            "__________________________________________________________________________________________________\n",
            "leaky_re_lu_16 (LeakyReLU)      (None, 50)           0           dropout_33[0][0]                 \n",
            "__________________________________________________________________________________________________\n",
            "leaky_re_lu_17 (LeakyReLU)      (None, 10)           0           dropout_35[0][0]                 \n",
            "__________________________________________________________________________________________________\n",
            "leaky_re_lu_18 (LeakyReLU)      (None, 50)           0           dropout_37[0][0]                 \n",
            "__________________________________________________________________________________________________\n",
            "leaky_re_lu_19 (LeakyReLU)      (None, 50)           0           dropout_39[0][0]                 \n",
            "__________________________________________________________________________________________________\n",
            "leaky_re_lu_20 (LeakyReLU)      (None, 10)           0           dropout_41[0][0]                 \n",
            "__________________________________________________________________________________________________\n",
            "leaky_re_lu_21 (LeakyReLU)      (None, 10)           0           dropout_43[0][0]                 \n",
            "__________________________________________________________________________________________________\n",
            "leaky_re_lu_22 (LeakyReLU)      (None, 5)            0           dropout_45[0][0]                 \n",
            "__________________________________________________________________________________________________\n",
            "concatenate_4 (Concatenate)     (None, 185)          0           leaky_re_lu_16[0][0]             \n",
            "                                                                 leaky_re_lu_17[0][0]             \n",
            "                                                                 leaky_re_lu_18[0][0]             \n",
            "                                                                 leaky_re_lu_19[0][0]             \n",
            "                                                                 leaky_re_lu_20[0][0]             \n",
            "                                                                 leaky_re_lu_21[0][0]             \n",
            "                                                                 leaky_re_lu_22[0][0]             \n",
            "__________________________________________________________________________________________________\n",
            "dense_23 (Dense)                (None, 64)           11904       concatenate_4[0][0]              \n",
            "__________________________________________________________________________________________________\n",
            "dropout_46 (Dropout)            (None, 64)           0           dense_23[0][0]                   \n",
            "__________________________________________________________________________________________________\n",
            "dense_24 (Dense)                (None, 32)           2080        dropout_46[0][0]                 \n",
            "__________________________________________________________________________________________________\n",
            "dropout_47 (Dropout)            (None, 32)           0           dense_24[0][0]                   \n",
            "__________________________________________________________________________________________________\n",
            "dense_25 (Dense)                (None, 9)            297         dropout_47[0][0]                 \n",
            "==================================================================================================\n",
            "Total params: 52,863\n",
            "Trainable params: 52,863\n",
            "Non-trainable params: 0\n",
            "__________________________________________________________________________________________________\n"
          ],
          "name": "stdout"
        }
      ]
    },
    {
      "cell_type": "code",
      "metadata": {
        "id": "eRFYrRlP-J9y",
        "colab_type": "code",
        "colab": {}
      },
      "source": [
        "history=model1.fit([train,train1,train2,train4,train5], label, \n",
        "                     epochs=15, batch_size=1024, verbose=1,\n",
        "                     validation_data=([train_val,train1_val,train2_val,train4_val,train5_val],label_val))"
      ],
      "execution_count": 0,
      "outputs": []
    },
    {
      "cell_type": "code",
      "metadata": {
        "id": "ZSUfXsahIZyA",
        "colab_type": "code",
        "colab": {}
      },
      "source": [
        "history=model4.fit([train,train1,train2,train3,train4,train5,train6], label, \n",
        "                    epochs=15, batch_size=1024, verbose=1,\n",
        "                    validation_data=([train_val,train1_val,train2_val,train3_val,train4_val,train5_val,train6_val],label_val))"
      ],
      "execution_count": 0,
      "outputs": []
    }
  ]
}
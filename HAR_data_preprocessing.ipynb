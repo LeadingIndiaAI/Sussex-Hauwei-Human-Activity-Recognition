{
  "nbformat": 4,
  "nbformat_minor": 0,
  "metadata": {
    "colab": {
      "name": "HAR data preprocessing.ipynb",
      "version": "0.3.2",
      "provenance": [],
      "collapsed_sections": [],
      "include_colab_link": true
    },
    "kernelspec": {
      "name": "python3",
      "display_name": "Python 3"
    },
    "accelerator": "GPU"
  },
  "cells": [
    {
      "cell_type": "markdown",
      "metadata": {
        "id": "view-in-github",
        "colab_type": "text"
      },
      "source": [
        "<a href=\"https://colab.research.google.com/github/apal9569/Human-Activity-Recognition/blob/master/HAR_data_preprocessing.ipynb\" target=\"_parent\"><img src=\"https://colab.research.google.com/assets/colab-badge.svg\" alt=\"Open In Colab\"/></a>"
      ]
    },
    {
      "cell_type": "code",
      "metadata": {
        "id": "XXzF4iFEZCWa",
        "colab_type": "code",
        "colab": {}
      },
      "source": [
        "!wget http://www.shl-dataset.org/wp-content/uploads/SHLChallenge2019/challenge-2019-train_hips.zip"
      ],
      "execution_count": 0,
      "outputs": []
    },
    {
      "cell_type": "code",
      "metadata": {
        "id": "7Fw203vxSfo3",
        "colab_type": "code",
        "colab": {}
      },
      "source": [
        "!wget http://www.shl-dataset.org/wp-content/uploads/SHLChallenge2019/challenge-2019-train_torso.zip"
      ],
      "execution_count": 0,
      "outputs": []
    },
    {
      "cell_type": "code",
      "metadata": {
        "id": "GolTHdx6pgNV",
        "colab_type": "code",
        "colab": {}
      },
      "source": [
        "!wget http://www.shl-dataset.org/wp-content/uploads/SHLChallenge2019/challenge-2019-train_bag.zip"
      ],
      "execution_count": 0,
      "outputs": []
    },
    {
      "cell_type": "code",
      "metadata": {
        "id": "hOIQcQp6kCi6",
        "colab_type": "code",
        "colab": {}
      },
      "source": [
        "!wget http://www.shl-dataset.org/wp-content/uploads/SHLChallenge2019/challenge-2019-validate_all.zip"
      ],
      "execution_count": 0,
      "outputs": []
    },
    {
      "cell_type": "code",
      "metadata": {
        "id": "EQaqu5f5ZKbg",
        "colab_type": "code",
        "colab": {}
      },
      "source": [
        "!unzip challenge-2019-train_torso.zip"
      ],
      "execution_count": 0,
      "outputs": []
    },
    {
      "cell_type": "code",
      "metadata": {
        "id": "LH-yqz4-UU_U",
        "colab_type": "code",
        "colab": {}
      },
      "source": [
        "!unzip challenge-2019-train_hips.zip"
      ],
      "execution_count": 0,
      "outputs": []
    },
    {
      "cell_type": "code",
      "metadata": {
        "id": "d2SAOp22pkKy",
        "colab_type": "code",
        "colab": {}
      },
      "source": [
        "!unzip challenge-2019-train_bag.zip"
      ],
      "execution_count": 0,
      "outputs": []
    },
    {
      "cell_type": "code",
      "metadata": {
        "id": "jKcKiLMvl4Qh",
        "colab_type": "code",
        "colab": {}
      },
      "source": [
        "!unzip challenge-2019-validate_all.zip"
      ],
      "execution_count": 0,
      "outputs": []
    },
    {
      "cell_type": "code",
      "metadata": {
        "id": "stizy9FLbbNA",
        "colab_type": "code",
        "colab": {}
      },
      "source": [
        "import pandas as pd\n",
        "acc_x=pd.read_csv('train/Hips/Acc_x.txt',header=None,delim_whitespace=True)\n",
        "acc_xval=pd.read_csv('validate/Hips/Acc_x.txt',header=None,delim_whitespace=True)"
      ],
      "execution_count": 0,
      "outputs": []
    },
    {
      "cell_type": "code",
      "metadata": {
        "id": "YrINKF8GgJCK",
        "colab_type": "code",
        "colab": {}
      },
      "source": [
        "acc_y=pd.read_csv('train/Hips/Acc_y.txt',header=None,delim_whitespace=True)\n",
        "acc_yval=pd.read_csv('validate/Hips/Acc_y.txt',header=None,delim_whitespace=True)"
      ],
      "execution_count": 0,
      "outputs": []
    },
    {
      "cell_type": "code",
      "metadata": {
        "id": "XrjU2ckbAn0I",
        "colab_type": "code",
        "colab": {}
      },
      "source": [
        "del acch_yval,acct_yval,accb_yval"
      ],
      "execution_count": 0,
      "outputs": []
    },
    {
      "cell_type": "code",
      "metadata": {
        "id": "QV26t_16haNi",
        "colab_type": "code",
        "colab": {}
      },
      "source": [
        "acc_z=pd.read_csv('train/Hips/Acc_z.txt',header=None,delim_whitespace=True)\n",
        "acc_zval=pd.read_csv('validate/Hips/Acc_z.txt',header=None,delim_whitespace=True)"
      ],
      "execution_count": 0,
      "outputs": []
    },
    {
      "cell_type": "code",
      "metadata": {
        "id": "sYAeyt-FrAnh",
        "colab_type": "code",
        "colab": {}
      },
      "source": [
        "gyr_x=pd.read_csv('train/Hips/Gyr_x.txt',header=None,delim_whitespace=True)\n",
        "gyr_xval=pd.read_csv('validate/Hips/Gyr_x.txt',header=None,delim_whitespace=True)\n"
      ],
      "execution_count": 0,
      "outputs": []
    },
    {
      "cell_type": "code",
      "metadata": {
        "id": "pDTrtBdQ1HR0",
        "colab_type": "code",
        "colab": {}
      },
      "source": [
        "gyr_y=pd.read_csv('train/Hips/Gyr_y.txt',header=None,delim_whitespace=True)\n",
        "gyr_yval=pd.read_csv('validate/Hips/Gyr_y.txt',header=None,delim_whitespace=True)"
      ],
      "execution_count": 0,
      "outputs": []
    },
    {
      "cell_type": "code",
      "metadata": {
        "id": "pDt1bQMr1ct7",
        "colab_type": "code",
        "colab": {}
      },
      "source": [
        "gyr_z=pd.read_csv('train/Hips/Gyr_z.txt',header=None,delim_whitespace=True)\n",
        "gyr_zval=pd.read_csv('validate/Hips/Gyr_z.txt',header=None,delim_whitespace=True)\n"
      ],
      "execution_count": 0,
      "outputs": []
    },
    {
      "cell_type": "code",
      "metadata": {
        "id": "rloSFk28IoAK",
        "colab_type": "code",
        "outputId": "fbd3546d-8e20-4cb0-ffa2-d2076231934e",
        "colab": {
          "base_uri": "https://localhost:8080/",
          "height": 34
        }
      },
      "source": [
        "gyr_z=np.concatenate([gyrh_z,gyrt_z,gyrb_z],axis=0)\n",
        "del gyrh_z,gyrt_z,gyrb_z\n",
        "gyr_z.shape"
      ],
      "execution_count": 0,
      "outputs": [
        {
          "output_type": "execute_result",
          "data": {
            "text/plain": [
              "(588216, 500)"
            ]
          },
          "metadata": {
            "tags": []
          },
          "execution_count": 59
        }
      ]
    },
    {
      "cell_type": "code",
      "metadata": {
        "id": "LDmjeeqbIuJu",
        "colab_type": "code",
        "outputId": "5f415e6f-e10f-4dbd-f5ad-8c1a2ca47e22",
        "colab": {
          "base_uri": "https://localhost:8080/",
          "height": 34
        }
      },
      "source": [
        "gyr_zval=np.concatenate([gyrh_zval,gyrt_zval,gyrb_zval],axis=0)\n",
        "del gyrh_zval,gyrt_zval,gyrb_zval\n",
        "gyr_zval.shape"
      ],
      "execution_count": 0,
      "outputs": [
        {
          "output_type": "execute_result",
          "data": {
            "text/plain": [
              "(36531, 500)"
            ]
          },
          "metadata": {
            "tags": []
          },
          "execution_count": 60
        }
      ]
    },
    {
      "cell_type": "code",
      "metadata": {
        "id": "kALRrJKjuENh",
        "colab_type": "code",
        "colab": {}
      },
      "source": [
        "press=pd.read_csv('train/Hips/Pressure.txt',header=None,delim_whitespace=True)\n",
        "press_val=pd.read_csv('validate/Hips/Pressure.txt',header=None,delim_whitespace=True)"
      ],
      "execution_count": 0,
      "outputs": []
    },
    {
      "cell_type": "code",
      "metadata": {
        "id": "qxqfGpchle6i",
        "colab_type": "code",
        "colab": {}
      },
      "source": [
        "gra_x=pd.read_csv('train/Hips/Gra_x.txt',header=None,delim_whitespace=True)\n",
        "gra_xval=pd.read_csv('validate/Hips/Gra_x.txt',header=None,delim_whitespace=True)"
      ],
      "execution_count": 0,
      "outputs": []
    },
    {
      "cell_type": "code",
      "metadata": {
        "id": "W7SoINQSl93-",
        "colab_type": "code",
        "colab": {}
      },
      "source": [
        "gra_y=pd.read_csv('train/Hips/Gra_y.txt',header=None,delim_whitespace=True)\n",
        "gra_yval=pd.read_csv('validate/Hips/Gra_y.txt',header=None,delim_whitespace=True)"
      ],
      "execution_count": 0,
      "outputs": []
    },
    {
      "cell_type": "code",
      "metadata": {
        "id": "mgm4Of0MmDkm",
        "colab_type": "code",
        "colab": {}
      },
      "source": [
        "gra_z=pd.read_csv('train/Hips/Gra_z.txt',header=None,delim_whitespace=True)\n",
        "gra_zval=pd.read_csv('validate/Hips/Gra_z.txt',header=None,delim_whitespace=True)"
      ],
      "execution_count": 0,
      "outputs": []
    },
    {
      "cell_type": "code",
      "metadata": {
        "id": "HsnsCQjGENwV",
        "colab_type": "code",
        "colab": {}
      },
      "source": [
        "#lacc_x=pd.read_csv('train/Hips/LAcc_x.txt',header=None,delim_whitespace=True)\n",
        "lacc_xval=pd.read_csv('validate/Hips/LAcc_x.txt',header=None,delim_whitespace=True)"
      ],
      "execution_count": 0,
      "outputs": []
    },
    {
      "cell_type": "code",
      "metadata": {
        "id": "nA1LQuVqEVnY",
        "colab_type": "code",
        "colab": {}
      },
      "source": [
        "lacc_y=pd.read_csv('train/Hips/LAcc_y.txt',header=None,delim_whitespace=True)\n",
        "lacc_yval=pd.read_csv('validate/Hips/LAcc_y.txt',header=None,delim_whitespace=True)"
      ],
      "execution_count": 0,
      "outputs": []
    },
    {
      "cell_type": "code",
      "metadata": {
        "id": "SaTWhtEZEk9c",
        "colab_type": "code",
        "colab": {}
      },
      "source": [
        "lacc_z=pd.read_csv('train/Hips/LAcc_z.txt',header=None,delim_whitespace=True)\n",
        "lacc_zval=pd.read_csv('validate/Hips/LAcc_z.txt',header=None,delim_whitespace=True)"
      ],
      "execution_count": 0,
      "outputs": []
    },
    {
      "cell_type": "code",
      "metadata": {
        "id": "DB3PDGhvxK78",
        "colab_type": "code",
        "colab": {}
      },
      "source": [
        "ori_x=pd.read_csv('train/Hips/Ori_x.txt',header=None,delim_whitespace=True)\n",
        "ori_xval=pd.read_csv('validate/Hips/Ori_x.txt',header=None,delim_whitespace=True)"
      ],
      "execution_count": 0,
      "outputs": []
    },
    {
      "cell_type": "code",
      "metadata": {
        "id": "Q_aI4BBbxP_-",
        "colab_type": "code",
        "colab": {}
      },
      "source": [
        "ori_y=pd.read_csv('train/Hips/Ori_y.txt',header=None,delim_whitespace=True)\n",
        "ori_yval=pd.read_csv('validate/Hips/Ori_y.txt',header=None,delim_whitespace=True)\n"
      ],
      "execution_count": 0,
      "outputs": []
    },
    {
      "cell_type": "code",
      "metadata": {
        "id": "5h9BE62Oxa0K",
        "colab_type": "code",
        "colab": {}
      },
      "source": [
        "ori_z=pd.read_csv('train/Hips/Ori_z.txt',header=None,delim_whitespace=True)\n",
        "ori_zval=pd.read_csv('validate/Hips/Ori_z.txt',header=None,delim_whitespace=True)"
      ],
      "execution_count": 0,
      "outputs": []
    },
    {
      "cell_type": "code",
      "metadata": {
        "id": "klr7jKq2xcMr",
        "colab_type": "code",
        "colab": {}
      },
      "source": [
        "ori_w=pd.read_csv('train/Hips/Ori_w.txt',header=None,delim_whitespace=True)\n",
        "ori_wval=pd.read_csv('validate/Hips/Ori_w.txt',header=None,delim_whitespace=True)"
      ],
      "execution_count": 0,
      "outputs": []
    },
    {
      "cell_type": "code",
      "metadata": {
        "id": "8mbbBIGWUUA8",
        "colab_type": "code",
        "colab": {}
      },
      "source": [
        "mag_x=pd.read_csv('train/Torso/Mag_x.txt',header=None,delim_whitespace=True)\n",
        "mag_xval=pd.read_csv('validate/Torso/Mag_x.txt',header=None,delim_whitespace=True)\n"
      ],
      "execution_count": 0,
      "outputs": []
    },
    {
      "cell_type": "code",
      "metadata": {
        "id": "s8DPrtTIU0Um",
        "colab_type": "code",
        "colab": {}
      },
      "source": [
        "mag_y=pd.read_csv('train/Torso/Mag_y.txt',header=None,delim_whitespace=True)\n",
        "mag_yval=pd.read_csv('validate/Torso/Mag_y.txt',header=None,delim_whitespace=True)"
      ],
      "execution_count": 0,
      "outputs": []
    },
    {
      "cell_type": "code",
      "metadata": {
        "id": "qbsiCcygU2ct",
        "colab_type": "code",
        "colab": {}
      },
      "source": [
        "#mag_z=pd.read_csv('train/Torso/Mag_z.txt',header=None,delim_whitespace=True)\n",
        "mag_zval=pd.read_csv('validate/Torso/Mag_z.txt',header=None,delim_whitespace=True)\n",
        "#mag_z=np.array(mag_z)"
      ],
      "execution_count": 0,
      "outputs": []
    },
    {
      "cell_type": "code",
      "metadata": {
        "id": "NR7x6PU1d3HL",
        "colab_type": "code",
        "colab": {}
      },
      "source": [
        "label=pd.read_csv('train/Hips/Label.txt',header=None,delim_whitespace=True)\n",
        "label_val=pd.read_csv('validate/Hips/Label.txt',header=None,delim_whitespace=True)"
      ],
      "execution_count": 0,
      "outputs": []
    },
    {
      "cell_type": "code",
      "metadata": {
        "id": "uGb5AxoPS4J-",
        "colab_type": "code",
        "colab": {}
      },
      "source": [
        "del acc_x,acc_y,acc_z,acc_xval,acc_yval,acc_zval"
      ],
      "execution_count": 0,
      "outputs": []
    },
    {
      "cell_type": "code",
      "metadata": {
        "id": "Nj9-cfzIJyFk",
        "colab_type": "code",
        "colab": {}
      },
      "source": [
        "label=np.concatenate([label_h,label_t,label_b],axis=0)\n",
        "del label_h,label_t,label_b"
      ],
      "execution_count": 0,
      "outputs": []
    },
    {
      "cell_type": "code",
      "metadata": {
        "id": "7_fnt1Z7-zxQ",
        "colab_type": "code",
        "colab": {}
      },
      "source": [
        "label_val=np.concatenate([labelh_val,labelt_val,labelb_val],axis=0)\n",
        "del labelh_val,labelt_val,labelb_val"
      ],
      "execution_count": 0,
      "outputs": []
    },
    {
      "cell_type": "code",
      "metadata": {
        "id": "9BtfS7LweMkD",
        "colab_type": "code",
        "colab": {}
      },
      "source": [
        "import numpy as np\n",
        "label=np.array(label)\n",
        "label=label[:,0]\n",
        "\n",
        "label_val=np.array(label_val)\n",
        "label_val=label_val[:,0]"
      ],
      "execution_count": 0,
      "outputs": []
    },
    {
      "cell_type": "code",
      "metadata": {
        "id": "kvGyoxe0to2n",
        "colab_type": "code",
        "outputId": "6fd0a009-c80c-421b-c5a5-b7776ef8c8bb",
        "colab": {
          "base_uri": "https://localhost:8080/",
          "height": 34
        }
      },
      "source": [
        "label.shape"
      ],
      "execution_count": 0,
      "outputs": [
        {
          "output_type": "execute_result",
          "data": {
            "text/plain": [
              "(588216,)"
            ]
          },
          "metadata": {
            "tags": []
          },
          "execution_count": 14
        }
      ]
    },
    {
      "cell_type": "code",
      "metadata": {
        "id": "2M71R0cQr2pK",
        "colab_type": "code",
        "colab": {}
      },
      "source": [
        "#MAGNITUDE OF ACCELERATION\n",
        "mag_acc=np.add(np.square(accX),np.square(accY))#,np.square(acc_z))\n",
        "mag_acc=np.sqrt(np.add(mag_acc,np.square(accX)))\n",
        "\n",
        "mag_accval=np.add(np.square(acc_xval),np.square(acc_yval))#,np.square(acc_z))\n",
        "mag_accval=np.sqrt(np.add(mag_accval,np.square(acc_zval)))\n"
      ],
      "execution_count": 0,
      "outputs": []
    },
    {
      "cell_type": "code",
      "metadata": {
        "id": "Ro3ix2Dh1yWb",
        "colab_type": "code",
        "colab": {}
      },
      "source": [
        "#MAGNITUDE OF GYR\n",
        "mag_gyr=np.add(np.square(gyr_x),np.square(gyr_y))#,np.square(acc_z))\n",
        "mag_gyr=np.sqrt(np.add(mag_gyr,np.square(gyr_z)))\n",
        "\n",
        "mag_gyrval=np.add(np.square(gyr_xval),np.square(gyr_yval))#,np.square(acc_z))\n",
        "mag_gyrval=np.sqrt(np.add(mag_gyrval,np.square(gyr_zval)))"
      ],
      "execution_count": 0,
      "outputs": []
    },
    {
      "cell_type": "code",
      "metadata": {
        "id": "va2TszDyp2YD",
        "colab_type": "code",
        "colab": {}
      },
      "source": [
        "#MAGNITUDE OF GRAVITY\n",
        "mag_gra=np.add(np.square(gra_x),np.square(gra_y))#,np.square(acc_z))\n",
        "mag_gra=np.sqrt(np.add(mag_gra,np.square(gra_z)))\n",
        "\n",
        "mag_graval=np.add(np.square(gra_xval),np.square(gra_yval))#,np.square(acc_z))\n",
        "mag_graval=np.sqrt(np.add(mag_graval,np.square(gra_zval)))\n"
      ],
      "execution_count": 0,
      "outputs": []
    },
    {
      "cell_type": "code",
      "metadata": {
        "id": "r8jNTCUFBGmz",
        "colab_type": "code",
        "colab": {}
      },
      "source": [
        "\n",
        "import numpy as np\n",
        "qwqx=np.multiply(ori_w,ori_x)\n",
        "qxqx=np.multiply(ori_x,ori_x)\n",
        "qzqx=np.multiply(ori_z,ori_x)\n",
        "qxqy=np.multiply(ori_x,ori_y)\n",
        "del ori_x\n",
        "qyqz=np.multiply(ori_y,ori_z)\n",
        "\n",
        "qyqy=np.multiply(ori_y,ori_y)\n",
        "qwqy=np.multiply(ori_w,ori_y)\n",
        "del ori_y\n",
        "qwqz=np.multiply(ori_w,ori_z)\n",
        "del ori_w\n",
        "qzqz=np.multiply(ori_z,ori_z)\n",
        "del ori_z"
      ],
      "execution_count": 0,
      "outputs": []
    },
    {
      "cell_type": "code",
      "metadata": {
        "id": "PDU4ssLp_Jt6",
        "colab_type": "code",
        "colab": {}
      },
      "source": [
        "qwqx_val=np.multiply(ori_wval,ori_xval)\n",
        "qyqz_val=np.multiply(ori_yval,ori_zval)\n",
        "qxqx_val=np.multiply(ori_xval,ori_xval)\n",
        "qyqy_val=np.multiply(ori_yval,ori_yval)\n",
        "qwqy_val=np.multiply(ori_wval,ori_yval)\n",
        "qzqx_val=np.multiply(ori_zval,ori_xval)\n",
        "qwqz_val=np.multiply(ori_wval,ori_zval)\n",
        "qzqz_val=np.multiply(ori_zval,ori_zval)\n",
        "qxqy_val=np.multiply(ori_xval,ori_yval)\n",
        "del ori_wval,ori_xval,ori_yval,ori_zval"
      ],
      "execution_count": 0,
      "outputs": []
    },
    {
      "cell_type": "code",
      "metadata": {
        "id": "Z6NENROg1RQ1",
        "colab_type": "code",
        "colab": {}
      },
      "source": [
        "qxqyqwqz_sub=2*np.subtract(qxqy,qwqz)\n",
        "qxqyqwqz_add=2*np.add(qxqy,qwqz)\n",
        "del qxqy,qwqz"
      ],
      "execution_count": 0,
      "outputs": []
    },
    {
      "cell_type": "code",
      "metadata": {
        "id": "lDPGSag6YVaS",
        "colab_type": "code",
        "colab": {}
      },
      "source": [
        "qxqzqwqy_sub=2*np.subtract(qzqx,qwqy)\n",
        "qxqzqwqy_add=2*np.add(qzqx,qwqy)\n",
        "del qzqx,qwqy"
      ],
      "execution_count": 0,
      "outputs": []
    },
    {
      "cell_type": "code",
      "metadata": {
        "id": "zy1FhG8QY2X-",
        "colab_type": "code",
        "colab": {}
      },
      "source": [
        "qyqzqwqx_sub=2*np.subtract(qyqz,qwqx)\n",
        "qyqzqwqx_add=2*np.add(qyqz,qwqx)\n",
        "del qyqz,qwqx"
      ],
      "execution_count": 0,
      "outputs": []
    },
    {
      "cell_type": "code",
      "metadata": {
        "id": "yv1xSsL0Zk_U",
        "colab_type": "code",
        "colab": {}
      },
      "source": [
        "qxqxqyqy=1-2*np.add(qxqx,qyqy)\n",
        "qzqzqyqy=1-2*np.add(qzqz,qyqy)\n",
        "qxqxqzqz=1-2*np.add(qxqx,qzqz)\n",
        "del qxqx,qyqy,qzqz"
      ],
      "execution_count": 0,
      "outputs": []
    },
    {
      "cell_type": "code",
      "metadata": {
        "id": "Mm8qZ-8d_yTv",
        "colab_type": "code",
        "colab": {}
      },
      "source": [
        "qxqyqwqz_sub_val=2*np.subtract(qxqy_val,qwqz_val)\n",
        "qxqyqwqz_add_val=2*np.add(qxqy_val,qwqz_val)\n",
        "del qxqy_val,qwqz_val"
      ],
      "execution_count": 0,
      "outputs": []
    },
    {
      "cell_type": "code",
      "metadata": {
        "id": "rfDSIVP7AbKy",
        "colab_type": "code",
        "colab": {}
      },
      "source": [
        "qxqzqwqy_sub_val=2*np.subtract(qzqx_val,qwqy_val)\n",
        "qxqzqwqy_add_val=2*np.add(qzqx_val,qwqy_val)\n",
        "del qzqx_val,qwqy_val"
      ],
      "execution_count": 0,
      "outputs": []
    },
    {
      "cell_type": "code",
      "metadata": {
        "id": "ODVWiIm4AmWw",
        "colab_type": "code",
        "colab": {}
      },
      "source": [
        "qyqzqwqx_sub_val=2*np.subtract(qyqz_val,qwqx_val)\n",
        "qyqzqwqx_add_val=2*np.add(qyqz_val,qwqx_val)\n",
        "del qyqz_val,qwqx_val"
      ],
      "execution_count": 0,
      "outputs": []
    },
    {
      "cell_type": "code",
      "metadata": {
        "id": "WotvpjedBR4y",
        "colab_type": "code",
        "colab": {}
      },
      "source": [
        "qxqxqyqy_val=1-2*np.add(qxqx_val,qyqy_val)\n",
        "qzqzqyqy_val=1-2*np.add(qzqz_val,qyqy_val)\n",
        "qxqxqzqz_val=1-2*np.add(qxqx_val,qzqz_val)\n",
        "del qxqx_val,qyqy_val,qzqz_val"
      ],
      "execution_count": 0,
      "outputs": []
    },
    {
      "cell_type": "code",
      "metadata": {
        "id": "dVxyySaLypTy",
        "colab_type": "code",
        "colab": {}
      },
      "source": [
        "pitch=np.arctan(np.divide(qyqzqwqx_add,qxqxqyqy))\n",
        "roll=np.arcsin(-qxqzqwqy_sub)\n",
        "yaw=np.arctan(np.divide(qxqyqwqz_add,qzqzqyqy))"
      ],
      "execution_count": 0,
      "outputs": []
    },
    {
      "cell_type": "code",
      "metadata": {
        "id": "DlloIKLFbKbP",
        "colab_type": "code",
        "colab": {}
      },
      "source": [
        "del qyqzqwqx_add,qxqxqyqy,qxqzqwqy_sub,qxqyqwqz_add,qzqzqyqy"
      ],
      "execution_count": 0,
      "outputs": []
    },
    {
      "cell_type": "code",
      "metadata": {
        "id": "VpnAjYWeBfIj",
        "colab_type": "code",
        "colab": {}
      },
      "source": [
        "pitch_val=np.arctan(np.divide(qyqzqwqx_add_val,qxqxqyqy_val))\n",
        "roll_val=np.arcsin(-qxqzqwqy_sub_val)\n",
        "yaw_val=np.arctan(np.divide(qxqyqwqz_add_val,qzqzqyqy_val))"
      ],
      "execution_count": 0,
      "outputs": []
    },
    {
      "cell_type": "code",
      "metadata": {
        "id": "_ejojhR_DME-",
        "colab_type": "code",
        "colab": {}
      },
      "source": [
        "del qyqzqwqx_add_val,qxqxqyqy_val,qxqzqwqy_sub_val,qxqyqwqz_add_val,qzqzqyqy_val"
      ],
      "execution_count": 0,
      "outputs": []
    },
    {
      "cell_type": "code",
      "metadata": {
        "id": "8XeNtpYhcaT5",
        "colab_type": "code",
        "colab": {}
      },
      "source": [
        "#ACCELERATION COORDINATE CHANGE\n",
        "acc_x=np.array(acc_x)\n",
        "acc_y=np.array(acc_y)\n",
        "acc_z=np.array(acc_z)\n",
        "accX=np.add(np.multiply(qzqzqyqy,acc_x),np.multiply(qxqyqwqz_sub,acc_y))\n",
        "accX=np.add(accX,np.multiply(qxqzqwqy_add,acc_z))\n",
        "del qxqyqwqz_sub,qxqzqwqy_add\n",
        "accY=np.add(np.multiply(qxqyqwqz_add,acc_x),np.multiply(qxqxqzqz,acc_y))\n",
        "accY=np.add(accY,np.multiply(qyqzqwqx_sub,acc_z))\n",
        "del qxqxqzqz,qyqzqwqx_sub\n",
        "accZ=np.add(np.multiply(qxqzqwqy_sub,acc_x),np.multiply(qyqzqwqx_add,acc_y))\n",
        "accZ=np.add(accZ,np.multiply(qxqxqyqy,acc_z))\n",
        "del acc_x,acc_y,acc_z"
      ],
      "execution_count": 0,
      "outputs": []
    },
    {
      "cell_type": "code",
      "metadata": {
        "id": "x5v_FHc9nJfT",
        "colab_type": "code",
        "colab": {}
      },
      "source": [
        "gra_x=np.array(gra_x)\n",
        "gra_y=np.array(gra_y)\n",
        "gra_z=np.array(gra_z)\n",
        "graX=np.add(np.multiply(qzqzqyqy,gra_x),np.multiply(qxqyqwqz_sub,gra_y))\n",
        "graX=np.add(graX,np.multiply(qxqzqwqy_add,gra_z))\n",
        "del qxqyqwqz_sub,qxqzqwqy_add\n",
        "graY=np.add(np.multiply(qxqyqwqz_add,gra_x),np.multiply(qxqxqzqz,gra_y))\n",
        "graY=np.add(graY,np.multiply(qyqzqwqx_sub,gra_z))\n",
        "del qxqxqzqz,qyqzqwqx_sub\n",
        "graZ=np.add(np.multiply(qxqzqwqy_sub,gra_x),np.multiply(qyqzqwqx_add,gra_y))\n",
        "graZ=np.add(graZ,np.multiply(qxqxqyqy,gra_z))\n",
        "del gra_x,gra_y,gra_z"
      ],
      "execution_count": 0,
      "outputs": []
    },
    {
      "cell_type": "code",
      "metadata": {
        "id": "8KFZW2nQYOc7",
        "colab_type": "code",
        "colab": {}
      },
      "source": [
        "#LINEAR ACCELERATION COORDINATE CHANGE\n",
        "lacc_x=np.array(lacc_x)\n",
        "lacc_y=np.array(lacc_y)\n",
        "lacc_z=np.array(lacc_z)\n",
        "laccX=np.add(np.multiply(qzqzqyqy,lacc_x),np.multiply(qxqyqwqz_sub,lacc_y))\n",
        "laccX=np.add(laccX,np.multiply(qxqzqwqy_add,lacc_z))\n",
        "del qxqyqwqz_sub,qxqzqwqy_add\n",
        "laccY=np.add(np.multiply(qxqyqwqz_add,lacc_x),np.multiply(qxqxqzqz,lacc_y))\n",
        "laccY=np.add(laccY,np.multiply(qyqzqwqx_sub,lacc_z))\n",
        "del qxqxqzqz,qyqzqwqx_sub\n",
        "laccZ=np.add(np.multiply(qxqzqwqy_sub,lacc_x),np.multiply(qyqzqwqx_add,lacc_y))\n",
        "laccZ=np.add(laccZ,np.multiply(qxqxqyqy,lacc_z))\n",
        "del lacc_x,lacc_y,lacc_z"
      ],
      "execution_count": 0,
      "outputs": []
    },
    {
      "cell_type": "code",
      "metadata": {
        "id": "e32C5gnkn5uP",
        "colab_type": "code",
        "outputId": "d56d7c8e-fca9-4b06-ce7a-63ffce79f3d2",
        "colab": {
          "base_uri": "https://localhost:8080/",
          "height": 34
        }
      },
      "source": [
        "graZ.shape"
      ],
      "execution_count": 0,
      "outputs": [
        {
          "output_type": "execute_result",
          "data": {
            "text/plain": [
              "(196072, 500)"
            ]
          },
          "metadata": {
            "tags": []
          },
          "execution_count": 23
        }
      ]
    },
    {
      "cell_type": "code",
      "metadata": {
        "id": "P7St040lVCeT",
        "colab_type": "code",
        "colab": {}
      },
      "source": [
        "#MAGNETOMETER COORDINATE CHANGE\n",
        "mag_x=np.array(mag_x)\n",
        "mag_y=np.array(mag_y)\n",
        "mag_z=np.array(mag_z)\n",
        "magX=np.add(np.multiply(qzqzqyqy,mag_x),np.multiply(qxqyqwqz_sub,mag_y))\n",
        "magX=np.add(magX,np.multiply(qxqzqwqy_add,mag_z))\n",
        "del qxqyqwqz_sub,qxqzqwqy_add\n",
        "magY=np.add(np.multiply(qxqyqwqz_add,mag_x),np.multiply(qxqxqzqz,mag_y))\n",
        "magY=np.add(magY,np.multiply(qyqzqwqx_sub,mag_z))\n",
        "del qxqxqzqz,qyqzqwqx_sub\n",
        "magZ=np.add(np.multiply(qxqzqwqy_sub,mag_x),np.multiply(qyqzqwqx_add,mag_y))\n",
        "magZ=np.add(magZ,np.multiply(qxqxqyqy,mag_z))\n",
        "del mag_x,mag_y,mag_z"
      ],
      "execution_count": 0,
      "outputs": []
    },
    {
      "cell_type": "code",
      "metadata": {
        "id": "VDtY4oPTB-c-",
        "colab_type": "code",
        "colab": {}
      },
      "source": [
        "#ACCELERATION VALIDATION COORDINATE CHANGE\n",
        "acc_xval=np.array(acc_xval)\n",
        "acc_yval=np.array(acc_yval)\n",
        "acc_zval=np.array(acc_zval)\n",
        "accX_val=np.add(np.multiply(qzqzqyqy_val,acc_xval),np.multiply(qxqyqwqz_sub_val,acc_yval))\n",
        "accX_val=np.add(accX_val,np.multiply(qxqzqwqy_add_val,acc_zval))\n",
        "accY_val=np.add(np.multiply(qxqyqwqz_add_val,acc_xval),np.multiply(qxqxqzqz_val,acc_yval))\n",
        "accY_val=np.add(accY_val,np.multiply(qyqzqwqx_sub_val,acc_zval))\n",
        "accZ_val=np.add(np.multiply(qxqzqwqy_sub_val,acc_xval),np.multiply(qyqzqwqx_add_val,acc_yval))\n",
        "accZ_val=np.add(accZ_val,np.multiply(qxqxqyqy_val,acc_zval))\n",
        "del acc_xval,acc_yval,acc_zval\n",
        "del qxqxqzqz_val,qyqzqwqx_sub_val\n",
        "del qxqyqwqz_sub_val,qxqzqwqy_add_val"
      ],
      "execution_count": 0,
      "outputs": []
    },
    {
      "cell_type": "code",
      "metadata": {
        "id": "VfzfPhoyZfOt",
        "colab_type": "code",
        "colab": {}
      },
      "source": [
        "#LINEAR ACCELERATION VALIDATION COORDINATE CHANGE\n",
        "lacc_xval=np.array(lacc_xval)\n",
        "lacc_yval=np.array(lacc_yval)\n",
        "lacc_zval=np.array(lacc_zval)\n",
        "laccX_val=np.add(np.multiply(qzqzqyqy_val,lacc_xval),np.multiply(qxqyqwqz_sub_val,lacc_yval))\n",
        "laccX_val=np.add(laccX_val,np.multiply(qxqzqwqy_add_val,lacc_zval))\n",
        "laccY_val=np.add(np.multiply(qxqyqwqz_add_val,lacc_xval),np.multiply(qxqxqzqz_val,lacc_yval))\n",
        "laccY_val=np.add(laccY_val,np.multiply(qyqzqwqx_sub_val,lacc_zval))\n",
        "laccZ_val=np.add(np.multiply(qxqzqwqy_sub_val,lacc_xval),np.multiply(qyqzqwqx_add_val,lacc_yval))\n",
        "laccZ_val=np.add(laccZ_val,np.multiply(qxqxqyqy_val,lacc_zval))\n",
        "del lacc_xval,lacc_yval,lacc_zval\n",
        "\n"
      ],
      "execution_count": 0,
      "outputs": []
    },
    {
      "cell_type": "code",
      "metadata": {
        "id": "oH1GRPWmXx-V",
        "colab_type": "code",
        "colab": {}
      },
      "source": [
        "#MAGNETOMETER VALIDATION COORDINATE CHANGE\n",
        "mag_xval=np.array(mag_xval)\n",
        "mag_yval=np.array(mag_yval)\n",
        "mag_zval=np.array(mag_zval)\n",
        "magX_val=np.add(np.multiply(qzqzqyqy_val,mag_xval),np.multiply(qxqyqwqz_sub_val,mag_yval))\n",
        "magX_val=np.add(magX_val,np.multiply(qxqzqwqy_add_val,mag_zval))\n",
        "magY_val=np.add(np.multiply(qxqyqwqz_add_val,mag_xval),np.multiply(qxqxqzqz_val,mag_yval))\n",
        "magY_val=np.add(magY_val,np.multiply(qyqzqwqx_sub_val,mag_zval))\n",
        "magZ_val=np.add(np.multiply(qxqzqwqy_sub_val,mag_xval),np.multiply(qyqzqwqx_add_val,mag_yval))\n",
        "magZ_val=np.add(magZ_val,np.multiply(qxqxqyqy_val,mag_zval))\n",
        "del mag_xval,mag_yval,mag_zval"
      ],
      "execution_count": 0,
      "outputs": []
    },
    {
      "cell_type": "code",
      "metadata": {
        "id": "wkU-8KGRpnR3",
        "colab_type": "code",
        "colab": {}
      },
      "source": [
        "gra_xval=np.array(gra_xval)\n",
        "gra_yval=np.array(gra_yval)\n",
        "gra_zval=np.array(gra_zval)\n",
        "graX_val=np.add(np.multiply(qzqzqyqy_val,gra_xval),np.multiply(qxqyqwqz_sub_val,gra_yval))\n",
        "graX_val=np.add(graX_val,np.multiply(qxqzqwqy_add_val,gra_zval))\n",
        "graY_val=np.add(np.multiply(qxqyqwqz_add_val,gra_xval),np.multiply(qxqxqzqz_val,gra_yval))\n",
        "graY_val=np.add(graY_val,np.multiply(qyqzqwqx_sub_val,gra_zval))\n",
        "graZ_val=np.add(np.multiply(qxqzqwqy_sub_val,gra_xval),np.multiply(qyqzqwqx_add_val,gra_yval))\n",
        "graZ_val=np.add(graZ_val,np.multiply(qxqxqyqy_val,gra_zval))\n",
        "del gra_xval,gra_yval,gra_zval\n",
        "del qxqxqzqz_val,qyqzqwqx_sub_val\n",
        "del qxqyqwqz_sub_val,qxqzqwqy_add_val"
      ],
      "execution_count": 0,
      "outputs": []
    },
    {
      "cell_type": "code",
      "metadata": {
        "id": "31Cnmrn-eRq7",
        "colab_type": "code",
        "colab": {}
      },
      "source": [
        "import matplotlib.pyplot as plt\n",
        "from sklearn.ensemble import ExtraTreesClassifier\n",
        "def feat_imp(data,size,label1):\n",
        "  model = ExtraTreesClassifier()\n",
        "  model.fit(data,label1)\n",
        "  \n",
        "  feat_importances = pd.Series(model.feature_importances_, index=data.columns)\n",
        "  return feat_importances.nlargest(size).index"
      ],
      "execution_count": 0,
      "outputs": []
    },
    {
      "cell_type": "code",
      "metadata": {
        "id": "WiwN3QfeVYM_",
        "colab_type": "code",
        "colab": {}
      },
      "source": [
        "def correlation(data,threshold,data1):\n",
        "    col_corr = set() \n",
        "    corr_matrix = data.corr()\n",
        "    for i in range(len(corr_matrix.columns)):\n",
        "        for j in range(i):\n",
        "            if (corr_matrix.iloc[i, j] >= threshold) and (corr_matrix.columns[j] not in col_corr):\n",
        "                colname = corr_matrix.columns[i] \n",
        "                col_corr.add(colname)\n",
        "                if colname in data.columns:\n",
        "                    del data[colname]\n",
        "                    del data1[colname]\n",
        "    return data,data1"
      ],
      "execution_count": 0,
      "outputs": []
    },
    {
      "cell_type": "code",
      "metadata": {
        "id": "UiKkabygVz4I",
        "colab_type": "code",
        "outputId": "30cb3e91-c81f-41db-edff-6b8f502161b8",
        "colab": {
          "base_uri": "https://localhost:8080/",
          "height": 68
        }
      },
      "source": [
        "#PREPROCESSING OF ACC_X\n",
        "acc_x=np.array(acc_x)\n",
        "acc_x=np.nan_to_num(acc_x)\n",
        "\n",
        "acc_xval=np.array(acc_xval)\n",
        "acc_xval=np.nan_to_num(acc_xval)\n",
        "\n",
        "\n",
        "acc_x=pd.DataFrame(acc_x)\n",
        "acc_xval=pd.DataFrame(acc_xval)\n",
        "\n",
        "acc_x,acc_xval=correlation(acc_x,0.8,acc_xval)\n",
        "print(acc_x.shape)\n",
        "index=feat_imp(acc_x,20,label)\n",
        "acc_x=acc_x[index]\n",
        "acc_xval=acc_xval[index]\n",
        "\n"
      ],
      "execution_count": 0,
      "outputs": [
        {
          "output_type": "stream",
          "text": [
            "(196072, 22)\n"
          ],
          "name": "stdout"
        },
        {
          "output_type": "stream",
          "text": [
            "/usr/local/lib/python3.6/dist-packages/sklearn/ensemble/forest.py:245: FutureWarning: The default value of n_estimators will change from 10 in version 0.20 to 100 in 0.22.\n",
            "  \"10 in version 0.20 to 100 in 0.22.\", FutureWarning)\n"
          ],
          "name": "stderr"
        }
      ]
    },
    {
      "cell_type": "code",
      "metadata": {
        "id": "Du-07dJz_-86",
        "colab_type": "code",
        "outputId": "790f0d28-ee66-4cd3-b888-1c87ea1b19a4",
        "colab": {
          "base_uri": "https://localhost:8080/",
          "height": 34
        }
      },
      "source": [
        "acc_x.shape"
      ],
      "execution_count": 0,
      "outputs": [
        {
          "output_type": "execute_result",
          "data": {
            "text/plain": [
              "(196072, 20)"
            ]
          },
          "metadata": {
            "tags": []
          },
          "execution_count": 38
        }
      ]
    },
    {
      "cell_type": "code",
      "metadata": {
        "id": "YSSo0SBoZelw",
        "colab_type": "code",
        "outputId": "e072a9d2-e6d8-4b05-ebdb-182ce023c2d4",
        "colab": {
          "base_uri": "https://localhost:8080/",
          "height": 85
        }
      },
      "source": [
        "#PREPROCESSING OF ACC_Y\n",
        "acc_y=np.array(acc_y)\n",
        "acc_y=np.nan_to_num(acc_y)\n",
        "\n",
        "acc_yval=np.array(acc_yval)\n",
        "acc_yval=np.nan_to_num(acc_yval)\n",
        "\n",
        "acc_y=pd.DataFrame(acc_y)\n",
        "acc_yval=pd.DataFrame(acc_yval)\n",
        "acc_y,acc_yval=correlation(acc_y,0.8,acc_yval)\n",
        "print(acc_y.shape)\n",
        "index=feat_imp(acc_y,20,label)\n",
        "acc_y=acc_y[index]\n",
        "acc_yval=acc_yval[index]\n",
        "\n",
        "print(acc_y.shape,acc_yval.shape)"
      ],
      "execution_count": 0,
      "outputs": [
        {
          "output_type": "stream",
          "text": [
            "(196072, 34)\n"
          ],
          "name": "stdout"
        },
        {
          "output_type": "stream",
          "text": [
            "/usr/local/lib/python3.6/dist-packages/sklearn/ensemble/forest.py:245: FutureWarning: The default value of n_estimators will change from 10 in version 0.20 to 100 in 0.22.\n",
            "  \"10 in version 0.20 to 100 in 0.22.\", FutureWarning)\n"
          ],
          "name": "stderr"
        },
        {
          "output_type": "stream",
          "text": [
            "(196072, 20) (12177, 20)\n"
          ],
          "name": "stdout"
        }
      ]
    },
    {
      "cell_type": "code",
      "metadata": {
        "id": "0UxMdkH7aOIy",
        "colab_type": "code",
        "outputId": "7493c14e-1cfc-40b0-aa01-a3f5eff1b126",
        "colab": {
          "base_uri": "https://localhost:8080/",
          "height": 68
        }
      },
      "source": [
        "#PREPROCESSING OF ACC_Z\n",
        "acc_z=np.array(acc_z)\n",
        "acc_z=np.nan_to_num(acc_z)\n",
        "\n",
        "acc_zval=np.array(acc_zval)\n",
        "acc_zval=np.nan_to_num(acc_zval)\n",
        "\n",
        "acc_z=pd.DataFrame(acc_z)\n",
        "acc_zval=pd.DataFrame(acc_zval)\n",
        "\n",
        "acc_z,acc_zval=correlation(acc_z,0.8,acc_zval)\n",
        "index=feat_imp(acc_z,20,label)\n",
        "acc_z=acc_z[index]\n",
        "acc_zval=acc_zval[index]\n",
        "\n",
        "print(acc_z.shape,acc_zval.shape)\n"
      ],
      "execution_count": 0,
      "outputs": [
        {
          "output_type": "stream",
          "text": [
            "/usr/local/lib/python3.6/dist-packages/sklearn/ensemble/forest.py:245: FutureWarning: The default value of n_estimators will change from 10 in version 0.20 to 100 in 0.22.\n",
            "  \"10 in version 0.20 to 100 in 0.22.\", FutureWarning)\n"
          ],
          "name": "stderr"
        },
        {
          "output_type": "stream",
          "text": [
            "(196072, 20) (12177, 20)\n"
          ],
          "name": "stdout"
        }
      ]
    },
    {
      "cell_type": "code",
      "metadata": {
        "id": "Zd8UAToAuNnf",
        "colab_type": "code",
        "colab": {}
      },
      "source": [
        "ori_y"
      ],
      "execution_count": 0,
      "outputs": []
    },
    {
      "cell_type": "code",
      "metadata": {
        "id": "XNKGsdJCuD90",
        "colab_type": "code",
        "outputId": "5ba24e4b-0735-40c7-f4a5-d1b43fb290df",
        "colab": {
          "base_uri": "https://localhost:8080/",
          "height": 34
        }
      },
      "source": [
        "ori_w=np.array(ori_w)\n",
        "ori_w=np.nan_to_num(ori_w)\n",
        "\n",
        "accX_val=np.array(accX_val)\n",
        "accX_val=np.nan_to_num(accX_val)\n",
        "\n",
        "\n",
        "accX=pd.DataFrame(accX)\n",
        "\n",
        "accX=pd.DataFrame(accX)\n",
        "accX_val=pd.DataFrame(accX_val)\n",
        "\n",
        "ori_z,ori_zval=correlation(ori_z,0.9,ori_zval)\n",
        "print(ori_z.shape)"
      ],
      "execution_count": 0,
      "outputs": [
        {
          "output_type": "stream",
          "text": [
            "(196072, 3)\n"
          ],
          "name": "stdout"
        }
      ]
    },
    {
      "cell_type": "code",
      "metadata": {
        "id": "pgpLtv8wqZxf",
        "colab_type": "code",
        "outputId": "b8179693-2921-4eb6-e5f7-78034e8d76a5",
        "colab": {
          "base_uri": "https://localhost:8080/",
          "height": 51
        }
      },
      "source": [
        "#PREPROCESSING OF MAG_ACC\n",
        "minmax=preprocessing.MinMaxScaler()\n",
        "\n",
        "mag_acc=minmax.fit_transform(mag_acc)\n",
        "mag_acc=pd.DataFrame(mag_acc)\n",
        "\n",
        "mag_accval=minmax.fit_transform(mag_accval)\n",
        "mag_accval=pd.DataFrame(mag_accval)\n",
        "\n",
        "mag_acc,mag_accval=correlation(mag_acc,0.8,mag_accval)\n",
        "index=feat_imp(mag_acc,20,label)\n",
        "mag_acc=mag_acc[index]\n",
        "mag_accval=mag_accval[index]\n"
      ],
      "execution_count": 0,
      "outputs": [
        {
          "output_type": "stream",
          "text": [
            "/usr/local/lib/python3.6/dist-packages/sklearn/ensemble/forest.py:245: FutureWarning: The default value of n_estimators will change from 10 in version 0.20 to 100 in 0.22.\n",
            "  \"10 in version 0.20 to 100 in 0.22.\", FutureWarning)\n"
          ],
          "name": "stderr"
        }
      ]
    },
    {
      "cell_type": "code",
      "metadata": {
        "id": "QpNJHyWsWvjL",
        "colab_type": "code",
        "colab": {}
      },
      "source": [
        "pitch=np.array(pitch)\n",
        "pitch=np.nan_to_num(pitch)\n",
        "#gyr_y=pd.DataFrame(gyr_y)\n",
        "\n",
        "pitch_val=np.array(pitch_val)\n",
        "pitch_val=np.nan_to_num(pitch_val)\n",
        "\n",
        "pitch=pd.DataFrame(pitch)\n",
        "pitch_val=pd.DataFrame(pitch_val)\n",
        "pitch_corr,pitch_valcorr=correlation(pitch,0.8,pitch_val)\n",
        "print(pitch_corr.shape)\n",
        "\n",
        "print(pitch_imp.shape,pitch_val_imp.shape)"
      ],
      "execution_count": 0,
      "outputs": []
    },
    {
      "cell_type": "code",
      "metadata": {
        "id": "Q3pbVpdrXZ5Q",
        "colab_type": "code",
        "outputId": "a38870aa-4369-492c-a4a7-58b764277c47",
        "colab": {
          "base_uri": "https://localhost:8080/",
          "height": 34
        }
      },
      "source": [
        "yaw=np.array(yaw)\n",
        "yaw=np.nan_to_num(yaw)\n",
        "\n",
        "yaw_val=np.array(yaw_val)\n",
        "yaw_val=np.nan_to_num(yaw_val)\n",
        "\n",
        "yaw=pd.DataFrame(yaw)\n",
        "yaw_val=pd.DataFrame(yaw_val)\n",
        "yaw_corr,yaw_valcorr=correlation(yaw,0.8,yaw_val)\n",
        "\n",
        "print(yaw_corr.shape)"
      ],
      "execution_count": 0,
      "outputs": [
        {
          "output_type": "stream",
          "text": [
            "(196072, 4)\n"
          ],
          "name": "stdout"
        }
      ]
    },
    {
      "cell_type": "code",
      "metadata": {
        "id": "2XwCeZQoXwa6",
        "colab_type": "code",
        "outputId": "cf7042bd-d1fa-40b1-d653-8edc3052da71",
        "colab": {
          "base_uri": "https://localhost:8080/",
          "height": 34
        }
      },
      "source": [
        "roll=np.array(roll)\n",
        "roll=np.nan_to_num(roll)\n",
        "#gyr_y=pd.DataFrame(gyr_y)\n",
        "\n",
        "roll_val=np.array(roll_val)\n",
        "roll_val=np.nan_to_num(roll_val)\n",
        "\n",
        "roll=pd.DataFrame(roll)\n",
        "roll_val=pd.DataFrame(roll_val)\n",
        "roll_corr,roll_val_corr=correlation(roll,0.8,roll_val)\n",
        "\n",
        "print(roll_corr.shape)"
      ],
      "execution_count": 0,
      "outputs": [
        {
          "output_type": "stream",
          "text": [
            "(196072, 1)\n"
          ],
          "name": "stdout"
        }
      ]
    },
    {
      "cell_type": "code",
      "metadata": {
        "id": "QD8VQQunTVgX",
        "colab_type": "code",
        "outputId": "2b103c61-83d1-4fda-c4a2-2a50729ff4a2",
        "colab": {
          "base_uri": "https://localhost:8080/",
          "height": 68
        }
      },
      "source": [
        "laccX=np.array(laccX)\n",
        "laccX=np.nan_to_num(laccX)\n",
        "\n",
        "laccX_val=np.array(laccX_val)\n",
        "laccX_val=np.nan_to_num(laccX_val)\n",
        "\n",
        "laccX=pd.DataFrame(laccX)\n",
        "laccX_val=pd.DataFrame(laccX_val)\n",
        "laccX,laccX_val=correlation(laccX,0.5,laccX_val)\n",
        "print(laccX.shape)\n",
        "index=feat_imp(laccX,60,label)\n",
        "laccX=laccX[index]\n",
        "laccX_val=laccX_val[index]"
      ],
      "execution_count": 0,
      "outputs": [
        {
          "output_type": "stream",
          "text": [
            "(196072, 167)\n"
          ],
          "name": "stdout"
        },
        {
          "output_type": "stream",
          "text": [
            "/usr/local/lib/python3.6/dist-packages/sklearn/ensemble/forest.py:245: FutureWarning: The default value of n_estimators will change from 10 in version 0.20 to 100 in 0.22.\n",
            "  \"10 in version 0.20 to 100 in 0.22.\", FutureWarning)\n"
          ],
          "name": "stderr"
        }
      ]
    },
    {
      "cell_type": "code",
      "metadata": {
        "id": "fdUNMSsPTcD1",
        "colab_type": "code",
        "outputId": "7c721443-85cd-4e40-8aec-af6ba363b709",
        "colab": {
          "base_uri": "https://localhost:8080/",
          "height": 68
        }
      },
      "source": [
        "laccY=np.array(laccY)\n",
        "laccY=np.nan_to_num(laccY)\n",
        "\n",
        "laccY_val=np.array(laccY_val)\n",
        "laccY_val=np.nan_to_num(laccY_val)\n",
        "\n",
        "laccY=pd.DataFrame(laccY)\n",
        "laccY_val=pd.DataFrame(laccY_val)\n",
        "laccY,laccY_val=correlation(laccY,0.5,laccY_val)\n",
        "\n",
        "index=feat_imp(laccY,60,label)\n",
        "laccY=laccY[index]\n",
        "laccY_val=laccY_val[index]\n",
        "laccY.shape\n"
      ],
      "execution_count": 0,
      "outputs": [
        {
          "output_type": "stream",
          "text": [
            "/usr/local/lib/python3.6/dist-packages/sklearn/ensemble/forest.py:245: FutureWarning: The default value of n_estimators will change from 10 in version 0.20 to 100 in 0.22.\n",
            "  \"10 in version 0.20 to 100 in 0.22.\", FutureWarning)\n"
          ],
          "name": "stderr"
        },
        {
          "output_type": "execute_result",
          "data": {
            "text/plain": [
              "(196072, 60)"
            ]
          },
          "metadata": {
            "tags": []
          },
          "execution_count": 42
        }
      ]
    },
    {
      "cell_type": "code",
      "metadata": {
        "id": "KEeCWxtSTm_M",
        "colab_type": "code",
        "outputId": "5bbdad69-eb10-4bdc-c5c2-87b5b027f015",
        "colab": {
          "base_uri": "https://localhost:8080/",
          "height": 68
        }
      },
      "source": [
        "laccZ=np.array(laccZ)\n",
        "laccZ=np.nan_to_num(laccZ)\n",
        "\n",
        "laccZ_val=np.array(laccZ_val)\n",
        "laccZ_val=np.nan_to_num(laccZ_val)\n",
        "\n",
        "laccZ=pd.DataFrame(laccZ)\n",
        "laccZ_val=pd.DataFrame(laccZ_val)\n",
        "laccZ,laccZ_val=correlation(laccZ,0.5,laccZ_val)\n",
        "index=feat_imp(laccZ,60,label)\n",
        "laccZ=laccZ[index]\n",
        "laccZ_val=laccZ_val[index]\n",
        "laccZ.shape"
      ],
      "execution_count": 0,
      "outputs": [
        {
          "output_type": "stream",
          "text": [
            "/usr/local/lib/python3.6/dist-packages/sklearn/ensemble/forest.py:245: FutureWarning: The default value of n_estimators will change from 10 in version 0.20 to 100 in 0.22.\n",
            "  \"10 in version 0.20 to 100 in 0.22.\", FutureWarning)\n"
          ],
          "name": "stderr"
        },
        {
          "output_type": "execute_result",
          "data": {
            "text/plain": [
              "(196072, 60)"
            ]
          },
          "metadata": {
            "tags": []
          },
          "execution_count": 43
        }
      ]
    },
    {
      "cell_type": "code",
      "metadata": {
        "id": "2SVw5xH-2JZj",
        "colab_type": "code",
        "outputId": "c585561c-e4ff-4e7a-d4f4-f81866d6ca9c",
        "colab": {
          "base_uri": "https://localhost:8080/",
          "height": 88
        }
      },
      "source": [
        "#PREPROCESSING OF GYR_X\n",
        "gyr_x=np.array(gyr_x)\n",
        "gyr_x=np.nan_to_num(gyr_x)\n",
        "\n",
        "gyr_xval=np.array(gyr_xval)\n",
        "gyr_xval=np.nan_to_num(gyr_xval)\n",
        "\n",
        "gyr_x=pd.DataFrame(gyr_x)\n",
        "gyr_xval=pd.DataFrame(gyr_xval)\n",
        "\n",
        "gyr_x,gyr_xval=correlation(gyr_x,0.7,gyr_xval)\n",
        "index=feat_imp(gyr_x,50,label)\n",
        "gyr_x=gyr_x[index]\n",
        "gyr_xval=gyr_xval[index]\n",
        "gyr_x.shape"
      ],
      "execution_count": 0,
      "outputs": [
        {
          "output_type": "stream",
          "text": [
            "/usr/local/lib/python3.6/dist-packages/sklearn/ensemble/forest.py:245: FutureWarning: The default value of n_estimators will change from 10 in version 0.20 to 100 in 0.22.\n",
            "  \"10 in version 0.20 to 100 in 0.22.\", FutureWarning)\n"
          ],
          "name": "stderr"
        },
        {
          "output_type": "execute_result",
          "data": {
            "text/plain": [
              "(196072, 50)"
            ]
          },
          "metadata": {
            "tags": []
          },
          "execution_count": 60
        }
      ]
    },
    {
      "cell_type": "code",
      "metadata": {
        "id": "nbHq7Cen_3WV",
        "colab_type": "code",
        "outputId": "eccf56f6-1fe7-4f7e-e4db-db5b6af802bb",
        "colab": {
          "base_uri": "https://localhost:8080/",
          "height": 34
        }
      },
      "source": [
        "gyr_zval.shape"
      ],
      "execution_count": 0,
      "outputs": [
        {
          "output_type": "execute_result",
          "data": {
            "text/plain": [
              "(12177, 50)"
            ]
          },
          "metadata": {
            "tags": []
          },
          "execution_count": 66
        }
      ]
    },
    {
      "cell_type": "code",
      "metadata": {
        "id": "0U4Y2Hkb2J_c",
        "colab_type": "code",
        "outputId": "efe5099a-567d-4e79-b4ea-9d5d0178277e",
        "colab": {
          "base_uri": "https://localhost:8080/",
          "height": 88
        }
      },
      "source": [
        "#PREPROCESSING OF GYR_Y and GYR_YVAL\n",
        "gyr_y=np.array(gyr_y)\n",
        "gyr_y=np.nan_to_num(gyr_y)\n",
        "gyr_y=pd.DataFrame(gyr_y)\n",
        "\n",
        "gyr_yval=np.array(gyr_yval)\n",
        "gyr_yval=np.nan_to_num(gyr_yval)\n",
        "gyr_yval=pd.DataFrame(gyr_yval)\n",
        "\n",
        "gyr_y,gyr_yval=correlation(gyr_y,0.5,gyr_yval)\n",
        "index=feat_imp(gyr_y,50,label)\n",
        "gyr_y=gyr_y[index]\n",
        "gyr_yval=gyr_yval[index]\n",
        "\n",
        "gyr_y.shape"
      ],
      "execution_count": 0,
      "outputs": [
        {
          "output_type": "stream",
          "text": [
            "/usr/local/lib/python3.6/dist-packages/sklearn/ensemble/forest.py:245: FutureWarning: The default value of n_estimators will change from 10 in version 0.20 to 100 in 0.22.\n",
            "  \"10 in version 0.20 to 100 in 0.22.\", FutureWarning)\n"
          ],
          "name": "stderr"
        },
        {
          "output_type": "execute_result",
          "data": {
            "text/plain": [
              "(196072, 50)"
            ]
          },
          "metadata": {
            "tags": []
          },
          "execution_count": 61
        }
      ]
    },
    {
      "cell_type": "code",
      "metadata": {
        "id": "_ET4Uz3T2KT4",
        "colab_type": "code",
        "outputId": "74f62d42-ef77-434b-fa5e-581087825c8b",
        "colab": {
          "base_uri": "https://localhost:8080/",
          "height": 88
        }
      },
      "source": [
        "#PREPROCESSING OF GYR_Z\n",
        "gyr_z=np.array(gyr_z)\n",
        "gyr_z=np.nan_to_num(gyr_z)\n",
        "gyr_z=pd.DataFrame(gyr_z)\n",
        "\n",
        "gyr_zval=np.array(gyr_zval)\n",
        "gyr_zval=np.nan_to_num(gyr_zval)\n",
        "gyr_zval=pd.DataFrame(gyr_zval)\n",
        "\n",
        "gyr_z,gyr_zval=correlation(gyr_z,0.6,gyr_zval)\n",
        "index=feat_imp(gyr_z,50,label)\n",
        "gyr_z=gyr_z[index]\n",
        "gyr_zval=gyr_zval[index]\n",
        "gyr_z.shape"
      ],
      "execution_count": 0,
      "outputs": [
        {
          "output_type": "stream",
          "text": [
            "/usr/local/lib/python3.6/dist-packages/sklearn/ensemble/forest.py:245: FutureWarning: The default value of n_estimators will change from 10 in version 0.20 to 100 in 0.22.\n",
            "  \"10 in version 0.20 to 100 in 0.22.\", FutureWarning)\n"
          ],
          "name": "stderr"
        },
        {
          "output_type": "execute_result",
          "data": {
            "text/plain": [
              "(196072, 50)"
            ]
          },
          "metadata": {
            "tags": []
          },
          "execution_count": 62
        }
      ]
    },
    {
      "cell_type": "code",
      "metadata": {
        "id": "tDm30-hd2K_I",
        "colab_type": "code",
        "outputId": "172f9239-6255-4096-dda5-195a332fcc35",
        "colab": {
          "base_uri": "https://localhost:8080/",
          "height": 51
        }
      },
      "source": [
        "mag_gyr=np.array(mag_gyr)\n",
        "mag_gyr=np.nan_to_num(mag_gyr)\n",
        "mag_gyr=pd.DataFrame(mag_gyr)\n",
        "\n",
        "mag_gyrval=np.array(mag_gyrval)\n",
        "mag_gyrval=np.nan_to_num(mag_gyrval)\n",
        "mag_gyrval=pd.DataFrame(mag_gyrval)\n",
        "\n",
        "mag_gyr, mag_gyrval=correlation(mag_gyr,0.85,mag_gyrval)\n",
        "index=feat_imp(mag_gyr,50,label)\n",
        "mag_gyr=mag_gyr[index]\n",
        "mag_gyrval=mag_gyrval[index]"
      ],
      "execution_count": 0,
      "outputs": [
        {
          "output_type": "stream",
          "text": [
            "/usr/local/lib/python3.6/dist-packages/sklearn/ensemble/forest.py:245: FutureWarning: The default value of n_estimators will change from 10 in version 0.20 to 100 in 0.22.\n",
            "  \"10 in version 0.20 to 100 in 0.22.\", FutureWarning)\n"
          ],
          "name": "stderr"
        }
      ]
    },
    {
      "cell_type": "code",
      "metadata": {
        "id": "_iYrIy0d4g3y",
        "colab_type": "code",
        "outputId": "4ffab5af-d605-42c8-dbfd-32c89ce38303",
        "colab": {
          "base_uri": "https://localhost:8080/",
          "height": 34
        }
      },
      "source": [
        "mag_gyrval.shape"
      ],
      "execution_count": 0,
      "outputs": [
        {
          "output_type": "execute_result",
          "data": {
            "text/plain": [
              "(196072, 50)"
            ]
          },
          "metadata": {
            "tags": []
          },
          "execution_count": 69
        }
      ]
    },
    {
      "cell_type": "code",
      "metadata": {
        "id": "GeGXYahd4J6w",
        "colab_type": "code",
        "outputId": "aeaa3e41-6813-4155-db6e-713cc455cb9e",
        "colab": {
          "base_uri": "https://localhost:8080/",
          "height": 68
        }
      },
      "source": [
        "#pre=preprocessing.MinMaxScaler()#\n",
        "press=np.array(press)\n",
        "press=np.nan_to_num(press)\n",
        "press=pd.DataFrame(press)\n",
        "\n",
        "press_val=np.array(press_val)\n",
        "press_val=np.nan_to_num(press_val)\n",
        "press_val=pd.DataFrame(press_val)\n",
        "\n",
        "from sklearn import preprocessing\n",
        "scale=preprocessing.MinMaxScaler()\n",
        "press=scale.fit_transform(press)\n",
        "press=pd.DataFrame(press)\n",
        "\n",
        "press_val=scale.fit_transform(press_val)\n",
        "press_val=pd.DataFrame(press_val)\n",
        "\n",
        "press,press_val=correlation(press,0.95,press_val)\n",
        "print(press.shape)\n",
        "index=feat_imp(press,20,label)\n",
        "press=press[index]\n",
        "press_val=press_val[index]"
      ],
      "execution_count": 0,
      "outputs": [
        {
          "output_type": "stream",
          "text": [
            "(196072, 500)\n"
          ],
          "name": "stdout"
        },
        {
          "output_type": "stream",
          "text": [
            "/usr/local/lib/python3.6/dist-packages/sklearn/ensemble/forest.py:245: FutureWarning: The default value of n_estimators will change from 10 in version 0.20 to 100 in 0.22.\n",
            "  \"10 in version 0.20 to 100 in 0.22.\", FutureWarning)\n"
          ],
          "name": "stderr"
        }
      ]
    },
    {
      "cell_type": "code",
      "metadata": {
        "id": "8Jx0M-iHmY_2",
        "colab_type": "code",
        "outputId": "0635b969-c4b7-4b8b-e485-b28127e4ba52",
        "colab": {
          "base_uri": "https://localhost:8080/",
          "height": 34
        }
      },
      "source": [
        "#gra_x,gra_xval=correlation(gra_x,0.9,gra_xval)\n",
        "from sklearn import preprocessing\n",
        "scale=preprocessing.MinMaxScaler()\n",
        "gra_x=scale.fit_transform(gra_x)\n",
        "\n",
        "gra_x=pd.DataFrame(gra_x)\n",
        "\n",
        "gra_xval=scale.fit_transform(gra_xval)\n",
        "gra_xval=pd.DataFrame(gra_xval)\n",
        "\n",
        "gra_x,gra_xval=correlation(gra_x,0.95,gra_xval)\n",
        "print(gra_x.shape)"
      ],
      "execution_count": 0,
      "outputs": [
        {
          "output_type": "stream",
          "text": [
            "(196072, 1)\n"
          ],
          "name": "stdout"
        }
      ]
    },
    {
      "cell_type": "code",
      "metadata": {
        "id": "zY7yjMzTqfIg",
        "colab_type": "code",
        "outputId": "a521f6ac-b45c-4dbe-cdfd-b4602883ed4f",
        "colab": {
          "base_uri": "https://localhost:8080/",
          "height": 34
        }
      },
      "source": [
        "\n",
        "scale=preprocessing.MinMaxScaler()\n",
        "gra_y=scale.fit_transform(gra_y)\n",
        "\n",
        "gra_y=pd.DataFrame(gra_y)\n",
        "\n",
        "gra_yval=scale.fit_transform(gra_yval)\n",
        "gra_yval=pd.DataFrame(gra_yval)\n",
        "\n",
        "gra_y,gra_yval=correlation(gra_y,0.95,gra_yval)\n",
        "print(gra_y.shape)"
      ],
      "execution_count": 0,
      "outputs": [
        {
          "output_type": "stream",
          "text": [
            "(196072, 1)\n"
          ],
          "name": "stdout"
        }
      ]
    },
    {
      "cell_type": "code",
      "metadata": {
        "id": "jnkYfFg9qfOd",
        "colab_type": "code",
        "colab": {}
      },
      "source": [
        "\n",
        "gra_z=scale.fit_transform(gra_z)\n",
        "\n",
        "gra_z=pd.DataFrame(gra_z)\n",
        "\n",
        "gra_zval=scale.fit_transform(gra_zval)\n",
        "gra_zval=pd.DataFrame(gra_zval)\n",
        "\n",
        "gra_z,gra_zval=correlation(gra_z,0.95,gra_zval)\n"
      ],
      "execution_count": 0,
      "outputs": []
    },
    {
      "cell_type": "code",
      "metadata": {
        "id": "WQXhvoFs5HbM",
        "colab_type": "code",
        "outputId": "6f01e115-80e1-4414-9ae8-3ef5d18fb777",
        "colab": {
          "base_uri": "https://localhost:8080/",
          "height": 51
        }
      },
      "source": [
        "mag_gra=np.array(mag_gra)\n",
        "mag_gra=np.nan_to_num(mag_gra)\n",
        "mag_gra=pd.DataFrame(mag_gra)\n",
        "\n",
        "mag_graval=np.array(mag_graval)\n",
        "mag_graval=np.nan_to_num(mag_graval)\n",
        "mag_graval=pd.DataFrame(mag_graval)\n",
        "\n",
        "mag_gra,mag_graval=correlation(mag_gra,0.75,mag_graval)\n",
        "index=feat_imp(mag_gra,50,label)\n",
        "mag_gra=mag_gra[index]\n",
        "mag_graval=mag_graval[index]"
      ],
      "execution_count": 0,
      "outputs": [
        {
          "output_type": "stream",
          "text": [
            "/usr/local/lib/python3.6/dist-packages/sklearn/ensemble/forest.py:245: FutureWarning: The default value of n_estimators will change from 10 in version 0.20 to 100 in 0.22.\n",
            "  \"10 in version 0.20 to 100 in 0.22.\", FutureWarning)\n"
          ],
          "name": "stderr"
        }
      ]
    },
    {
      "cell_type": "code",
      "metadata": {
        "id": "d5uQfguFOve2",
        "colab_type": "code",
        "outputId": "36035f51-188e-4a6c-99e6-d7cdfb8f22b4",
        "colab": {
          "base_uri": "https://localhost:8080/",
          "height": 34
        }
      },
      "source": [
        "magX=np.array(magX)\n",
        "magX=np.nan_to_num(magX)\n",
        "magX=pd.DataFrame(magX)\n",
        "\n",
        "magX_val=np.array(magX_val)\n",
        "magX_val=np.nan_to_num(magX_val)\n",
        "magX_val=pd.DataFrame(magX_val)\n",
        "\n",
        "magX,magX_val=correlation(magX,0.9,magX_val)\n",
        "print(magX.shape)\n",
        "#index=feat_imp(magX,50,label)\n",
        "#magX=magX[index]\n",
        "#magX_val=magX_val[index]"
      ],
      "execution_count": 0,
      "outputs": [
        {
          "output_type": "stream",
          "text": [
            "(196072, 1)\n"
          ],
          "name": "stdout"
        }
      ]
    },
    {
      "cell_type": "code",
      "metadata": {
        "id": "hjpqyqYUQR5Y",
        "colab_type": "code",
        "outputId": "11997ca0-eaa3-4edd-eec0-f2e94910debe",
        "colab": {
          "base_uri": "https://localhost:8080/",
          "height": 34
        }
      },
      "source": [
        "magY=np.array(magY)\n",
        "magY=np.nan_to_num(magY)\n",
        "magY=pd.DataFrame(magY)\n",
        "\n",
        "magY_val=np.array(magY_val)\n",
        "magY_val=np.nan_to_num(magY_val)\n",
        "magY_val=pd.DataFrame(magY_val)\n",
        "\n",
        "magY,magY_val=correlation(magY,0.9,magY_val)\n",
        "print(magY.shape)\n",
        "#index=feat_imp(magY,50,label)\n",
        "#magY=magY[index]\n",
        "#magY_val=magY_val[index]"
      ],
      "execution_count": 0,
      "outputs": [
        {
          "output_type": "stream",
          "text": [
            "(196072, 1)\n"
          ],
          "name": "stdout"
        }
      ]
    },
    {
      "cell_type": "code",
      "metadata": {
        "id": "MowhexC4Q-2B",
        "colab_type": "code",
        "outputId": "bf780647-012d-4c9f-a5db-2a1b1d325425",
        "colab": {
          "base_uri": "https://localhost:8080/",
          "height": 34
        }
      },
      "source": [
        "magZ=np.array(magZ)\n",
        "magZ=np.nan_to_num(magZ)\n",
        "magZ=pd.DataFrame(magZ)\n",
        "\n",
        "magZ_val=np.array(magZ_val)\n",
        "magZ_val=np.nan_to_num(magZ_val)\n",
        "magZ_val=pd.DataFrame(magZ_val)\n",
        "\n",
        "magZ,magZ_val=correlation(magZ,0.9,magZ_val)\n",
        "print(magZ.shape)\n",
        "#index=feat_imp(magZ,50,label)\n",
        "#magZ=magZ[index]\n",
        "#magZ_val=magZ_val[index]"
      ],
      "execution_count": 0,
      "outputs": [
        {
          "output_type": "stream",
          "text": [
            "(196072, 1)\n"
          ],
          "name": "stdout"
        }
      ]
    }
  ]
}